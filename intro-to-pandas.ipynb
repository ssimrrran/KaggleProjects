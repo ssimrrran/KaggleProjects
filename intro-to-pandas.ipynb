{
 "cells": [
  {
   "cell_type": "code",
   "execution_count": 1,
   "id": "dec3f8e0",
   "metadata": {
    "_cell_guid": "b1076dfc-b9ad-4769-8c92-a6c4dae69d19",
    "_uuid": "8f2839f25d086af736a60e9eeb907d3b93b6e0e5",
    "execution": {
     "iopub.execute_input": "2024-03-25T16:52:21.955005Z",
     "iopub.status.busy": "2024-03-25T16:52:21.954522Z",
     "iopub.status.idle": "2024-03-25T16:52:22.962570Z",
     "shell.execute_reply": "2024-03-25T16:52:22.961113Z"
    },
    "papermill": {
     "duration": 1.028815,
     "end_time": "2024-03-25T16:52:22.965857",
     "exception": false,
     "start_time": "2024-03-25T16:52:21.937042",
     "status": "completed"
    },
    "tags": []
   },
   "outputs": [],
   "source": [
    "import pandas as pd\n",
    "import numpy as np"
   ]
  },
  {
   "cell_type": "code",
   "execution_count": 2,
   "id": "462d3c51",
   "metadata": {
    "execution": {
     "iopub.execute_input": "2024-03-25T16:52:22.997899Z",
     "iopub.status.busy": "2024-03-25T16:52:22.997306Z",
     "iopub.status.idle": "2024-03-25T16:52:23.005814Z",
     "shell.execute_reply": "2024-03-25T16:52:23.004369Z"
    },
    "papermill": {
     "duration": 0.027608,
     "end_time": "2024-03-25T16:52:23.008107",
     "exception": false,
     "start_time": "2024-03-25T16:52:22.980499",
     "status": "completed"
    },
    "tags": []
   },
   "outputs": [],
   "source": [
    "mydata = ['Boat', 'Car', 'Bike', 'Truck']\n",
    "myseries1 = pd.Series(mydata)"
   ]
  },
  {
   "cell_type": "code",
   "execution_count": 3,
   "id": "54a84c2d",
   "metadata": {
    "execution": {
     "iopub.execute_input": "2024-03-25T16:52:23.039042Z",
     "iopub.status.busy": "2024-03-25T16:52:23.037952Z",
     "iopub.status.idle": "2024-03-25T16:52:23.045015Z",
     "shell.execute_reply": "2024-03-25T16:52:23.044137Z"
    },
    "papermill": {
     "duration": 0.025296,
     "end_time": "2024-03-25T16:52:23.047781",
     "exception": false,
     "start_time": "2024-03-25T16:52:23.022485",
     "status": "completed"
    },
    "tags": []
   },
   "outputs": [
    {
     "name": "stdout",
     "output_type": "stream",
     "text": [
      "0     Boat\n",
      "1      Car\n",
      "2     Bike\n",
      "3    Truck\n",
      "dtype: object\n"
     ]
    }
   ],
   "source": [
    "print(myseries1)"
   ]
  },
  {
   "cell_type": "code",
   "execution_count": 4,
   "id": "ff84502d",
   "metadata": {
    "execution": {
     "iopub.execute_input": "2024-03-25T16:52:23.081086Z",
     "iopub.status.busy": "2024-03-25T16:52:23.079666Z",
     "iopub.status.idle": "2024-03-25T16:52:23.087446Z",
     "shell.execute_reply": "2024-03-25T16:52:23.086300Z"
    },
    "papermill": {
     "duration": 0.02795,
     "end_time": "2024-03-25T16:52:23.090104",
     "exception": false,
     "start_time": "2024-03-25T16:52:23.062154",
     "status": "completed"
    },
    "tags": []
   },
   "outputs": [
    {
     "name": "stdout",
     "output_type": "stream",
     "text": [
      "0     1\n",
      "1    55\n",
      "2    99\n",
      "3    43\n",
      "dtype: int64\n"
     ]
    }
   ],
   "source": [
    "mydata = [1, 55, 99 , 43 ]\n",
    "myseries2 = pd.Series(mydata)\n",
    "print(myseries2)"
   ]
  },
  {
   "cell_type": "markdown",
   "id": "1b902f4f",
   "metadata": {
    "papermill": {
     "duration": 0.013845,
     "end_time": "2024-03-25T16:52:23.118269",
     "exception": false,
     "start_time": "2024-03-25T16:52:23.104424",
     "status": "completed"
    },
    "tags": []
   },
   "source": [
    "## Dataframe "
   ]
  },
  {
   "cell_type": "markdown",
   "id": "4dab02bc",
   "metadata": {
    "papermill": {
     "duration": 0.015182,
     "end_time": "2024-03-25T16:52:23.148040",
     "exception": false,
     "start_time": "2024-03-25T16:52:23.132858",
     "status": "completed"
    },
    "tags": []
   },
   "source": [
    "#Need to learn more about Series and dataframe"
   ]
  },
  {
   "cell_type": "code",
   "execution_count": null,
   "id": "58dd05b9",
   "metadata": {
    "papermill": {
     "duration": 0.015815,
     "end_time": "2024-03-25T16:52:23.178601",
     "exception": false,
     "start_time": "2024-03-25T16:52:23.162786",
     "status": "completed"
    },
    "tags": []
   },
   "outputs": [],
   "source": []
  },
  {
   "cell_type": "markdown",
   "id": "65947cc2",
   "metadata": {
    "papermill": {
     "duration": 0.01471,
     "end_time": "2024-03-25T16:52:23.207723",
     "exception": false,
     "start_time": "2024-03-25T16:52:23.193013",
     "status": "completed"
    },
    "tags": []
   },
   "source": []
  },
  {
   "cell_type": "code",
   "execution_count": 5,
   "id": "b73d4130",
   "metadata": {
    "execution": {
     "iopub.execute_input": "2024-03-25T16:52:23.240049Z",
     "iopub.status.busy": "2024-03-25T16:52:23.239052Z",
     "iopub.status.idle": "2024-03-25T16:52:23.258945Z",
     "shell.execute_reply": "2024-03-25T16:52:23.257538Z"
    },
    "papermill": {
     "duration": 0.039204,
     "end_time": "2024-03-25T16:52:23.261821",
     "exception": false,
     "start_time": "2024-03-25T16:52:23.222617",
     "status": "completed"
    },
    "tags": []
   },
   "outputs": [
    {
     "data": {
      "text/html": [
       "<div>\n",
       "<style scoped>\n",
       "    .dataframe tbody tr th:only-of-type {\n",
       "        vertical-align: middle;\n",
       "    }\n",
       "\n",
       "    .dataframe tbody tr th {\n",
       "        vertical-align: top;\n",
       "    }\n",
       "\n",
       "    .dataframe thead th {\n",
       "        text-align: right;\n",
       "    }\n",
       "</style>\n",
       "<table border=\"1\" class=\"dataframe\">\n",
       "  <thead>\n",
       "    <tr style=\"text-align: right;\">\n",
       "      <th></th>\n",
       "      <th>thing</th>\n",
       "      <th>count</th>\n",
       "    </tr>\n",
       "  </thead>\n",
       "  <tbody>\n",
       "    <tr>\n",
       "      <th>0</th>\n",
       "      <td>Boat</td>\n",
       "      <td>1</td>\n",
       "    </tr>\n",
       "    <tr>\n",
       "      <th>1</th>\n",
       "      <td>Car</td>\n",
       "      <td>55</td>\n",
       "    </tr>\n",
       "    <tr>\n",
       "      <th>2</th>\n",
       "      <td>Bike</td>\n",
       "      <td>99</td>\n",
       "    </tr>\n",
       "    <tr>\n",
       "      <th>3</th>\n",
       "      <td>Truck</td>\n",
       "      <td>43</td>\n",
       "    </tr>\n",
       "  </tbody>\n",
       "</table>\n",
       "</div>"
      ],
      "text/plain": [
       "   thing  count\n",
       "0   Boat      1\n",
       "1    Car     55\n",
       "2   Bike     99\n",
       "3  Truck     43"
      ]
     },
     "execution_count": 5,
     "metadata": {},
     "output_type": "execute_result"
    }
   ],
   "source": [
    "mydfdata = [('Boat',1),( 'Car',55), ('Bike',99) , ('Truck',43)]\n",
    "mydf = pd.DataFrame(mydfdata, columns=['thing', 'count'])\n",
    "mydf"
   ]
  },
  {
   "cell_type": "code",
   "execution_count": 6,
   "id": "5ee609aa",
   "metadata": {
    "execution": {
     "iopub.execute_input": "2024-03-25T16:52:23.293388Z",
     "iopub.status.busy": "2024-03-25T16:52:23.292996Z",
     "iopub.status.idle": "2024-03-25T16:52:23.301528Z",
     "shell.execute_reply": "2024-03-25T16:52:23.300363Z"
    },
    "papermill": {
     "duration": 0.027322,
     "end_time": "2024-03-25T16:52:23.303904",
     "exception": false,
     "start_time": "2024-03-25T16:52:23.276582",
     "status": "completed"
    },
    "tags": []
   },
   "outputs": [
    {
     "data": {
      "text/plain": [
       "thing    object\n",
       "count     int64\n",
       "dtype: object"
      ]
     },
     "execution_count": 6,
     "metadata": {},
     "output_type": "execute_result"
    }
   ],
   "source": [
    "mydf.dtypes"
   ]
  },
  {
   "cell_type": "markdown",
   "id": "577f86c5",
   "metadata": {
    "papermill": {
     "duration": 0.014319,
     "end_time": "2024-03-25T16:52:23.332880",
     "exception": false,
     "start_time": "2024-03-25T16:52:23.318561",
     "status": "completed"
    },
    "tags": []
   },
   "source": [
    "# Reading in Data"
   ]
  },
  {
   "cell_type": "markdown",
   "id": "75302901",
   "metadata": {
    "papermill": {
     "duration": 0.015569,
     "end_time": "2024-03-25T16:52:23.363382",
     "exception": false,
     "start_time": "2024-03-25T16:52:23.347813",
     "status": "completed"
    },
    "tags": []
   },
   "source": []
  },
  {
   "cell_type": "code",
   "execution_count": 7,
   "id": "234561c9",
   "metadata": {
    "execution": {
     "iopub.execute_input": "2024-03-25T16:52:23.400367Z",
     "iopub.status.busy": "2024-03-25T16:52:23.399145Z",
     "iopub.status.idle": "2024-03-25T16:52:23.434149Z",
     "shell.execute_reply": "2024-03-25T16:52:23.432626Z"
    },
    "papermill": {
     "duration": 0.056299,
     "end_time": "2024-03-25T16:52:23.437060",
     "exception": false,
     "start_time": "2024-03-25T16:52:23.380761",
     "status": "completed"
    },
    "tags": []
   },
   "outputs": [],
   "source": [
    "df = pd.read_csv('../input/mr-beast-youtube-video-statistics/MrBeast_youtube_stats.csv')"
   ]
  },
  {
   "cell_type": "markdown",
   "id": "2490c1bd",
   "metadata": {
    "papermill": {
     "duration": 0.015342,
     "end_time": "2024-03-25T16:52:23.467602",
     "exception": false,
     "start_time": "2024-03-25T16:52:23.452260",
     "status": "completed"
    },
    "tags": []
   },
   "source": [
    "# Inspect the Data "
   ]
  },
  {
   "cell_type": "code",
   "execution_count": 8,
   "id": "d56ec814",
   "metadata": {
    "execution": {
     "iopub.execute_input": "2024-03-25T16:52:23.499816Z",
     "iopub.status.busy": "2024-03-25T16:52:23.498972Z",
     "iopub.status.idle": "2024-03-25T16:52:23.540473Z",
     "shell.execute_reply": "2024-03-25T16:52:23.538772Z"
    },
    "papermill": {
     "duration": 0.060934,
     "end_time": "2024-03-25T16:52:23.543455",
     "exception": false,
     "start_time": "2024-03-25T16:52:23.482521",
     "status": "completed"
    },
    "tags": []
   },
   "outputs": [
    {
     "data": {
      "text/html": [
       "<div>\n",
       "<style scoped>\n",
       "    .dataframe tbody tr th:only-of-type {\n",
       "        vertical-align: middle;\n",
       "    }\n",
       "\n",
       "    .dataframe tbody tr th {\n",
       "        vertical-align: top;\n",
       "    }\n",
       "\n",
       "    .dataframe thead th {\n",
       "        text-align: right;\n",
       "    }\n",
       "</style>\n",
       "<table border=\"1\" class=\"dataframe\">\n",
       "  <thead>\n",
       "    <tr style=\"text-align: right;\">\n",
       "      <th></th>\n",
       "      <th>id</th>\n",
       "      <th>title</th>\n",
       "      <th>description</th>\n",
       "      <th>publishTime</th>\n",
       "      <th>kind_stats</th>\n",
       "      <th>duration_seconds</th>\n",
       "      <th>viewCount</th>\n",
       "      <th>likeCount</th>\n",
       "      <th>commentCount</th>\n",
       "      <th>thumbnails.default.url</th>\n",
       "      <th>...</th>\n",
       "      <th>thumbnails.high.width</th>\n",
       "      <th>thumbnails.high.height</th>\n",
       "      <th>contentDetails.duration</th>\n",
       "      <th>contentDetails.dimension</th>\n",
       "      <th>topicDetails.topicCategories</th>\n",
       "      <th>snippet.defaultLanguage</th>\n",
       "      <th>localizations.en.title</th>\n",
       "      <th>localizations.en.description</th>\n",
       "      <th>snippet.tags</th>\n",
       "      <th>contentDetails.contentRating.ytRating</th>\n",
       "    </tr>\n",
       "  </thead>\n",
       "  <tbody>\n",
       "    <tr>\n",
       "      <th>0</th>\n",
       "      <td>TQHEJj68Jew</td>\n",
       "      <td>I Got Hunted By A Real Bounty Hunter</td>\n",
       "      <td>Sign up for Current w/ my Creator Code \"BEAST\"...</td>\n",
       "      <td>2021-04-24 20:00:00+00:00</td>\n",
       "      <td>youtube#video</td>\n",
       "      <td>861</td>\n",
       "      <td>84717282.0</td>\n",
       "      <td>2876493.0</td>\n",
       "      <td>128922.0</td>\n",
       "      <td>https://i.ytimg.com/vi/TQHEJj68Jew/default.jpg</td>\n",
       "      <td>...</td>\n",
       "      <td>480.0</td>\n",
       "      <td>360.0</td>\n",
       "      <td>PT14M21S</td>\n",
       "      <td>2d</td>\n",
       "      <td>['https://en.wikipedia.org/wiki/Lifestyle_(soc...</td>\n",
       "      <td>NaN</td>\n",
       "      <td>NaN</td>\n",
       "      <td>NaN</td>\n",
       "      <td>NaN</td>\n",
       "      <td>NaN</td>\n",
       "    </tr>\n",
       "    <tr>\n",
       "      <th>1</th>\n",
       "      <td>00NgUctWoLQ</td>\n",
       "      <td>Extreme $1,000,000 Hide And Seek</td>\n",
       "      <td>I didn't expect that to happen at the end I wa...</td>\n",
       "      <td>2021-12-18 21:00:00+00:00</td>\n",
       "      <td>youtube#video</td>\n",
       "      <td>729</td>\n",
       "      <td>32090178.0</td>\n",
       "      <td>2125183.0</td>\n",
       "      <td>73593.0</td>\n",
       "      <td>https://i.ytimg.com/vi/00NgUctWoLQ/default.jpg</td>\n",
       "      <td>...</td>\n",
       "      <td>480.0</td>\n",
       "      <td>360.0</td>\n",
       "      <td>PT12M9S</td>\n",
       "      <td>2d</td>\n",
       "      <td>['https://en.wikipedia.org/wiki/Lifestyle_(soc...</td>\n",
       "      <td>en</td>\n",
       "      <td>Extreme $1,000,000 Hide And Seek</td>\n",
       "      <td>I didn't expect that to happen at the end I wa...</td>\n",
       "      <td>NaN</td>\n",
       "      <td>NaN</td>\n",
       "    </tr>\n",
       "    <tr>\n",
       "      <th>2</th>\n",
       "      <td>NaN</td>\n",
       "      <td>MrBeast</td>\n",
       "      <td>Accomplishments - Raised $20000000 To Plant 20...</td>\n",
       "      <td>2012-02-20 00:43:50+00:00</td>\n",
       "      <td>NaN</td>\n",
       "      <td>0</td>\n",
       "      <td>NaN</td>\n",
       "      <td>NaN</td>\n",
       "      <td>NaN</td>\n",
       "      <td>https://yt3.ggpht.com/ytc/AKedOLTctGKJ32CdDLiS...</td>\n",
       "      <td>...</td>\n",
       "      <td>NaN</td>\n",
       "      <td>NaN</td>\n",
       "      <td>NaN</td>\n",
       "      <td>NaN</td>\n",
       "      <td>NaN</td>\n",
       "      <td>NaN</td>\n",
       "      <td>NaN</td>\n",
       "      <td>NaN</td>\n",
       "      <td>NaN</td>\n",
       "      <td>NaN</td>\n",
       "    </tr>\n",
       "    <tr>\n",
       "      <th>3</th>\n",
       "      <td>ayXxwJJId_c</td>\n",
       "      <td>I Bought The World&amp;#39;s Largest Mystery Box! ...</td>\n",
       "      <td>I cant believe I spent over $500000 on mystery...</td>\n",
       "      <td>2021-04-03 20:00:01+00:00</td>\n",
       "      <td>youtube#video</td>\n",
       "      <td>709</td>\n",
       "      <td>101745632.0</td>\n",
       "      <td>3110824.0</td>\n",
       "      <td>162796.0</td>\n",
       "      <td>https://i.ytimg.com/vi/ayXxwJJId_c/default.jpg</td>\n",
       "      <td>...</td>\n",
       "      <td>480.0</td>\n",
       "      <td>360.0</td>\n",
       "      <td>PT11M49S</td>\n",
       "      <td>2d</td>\n",
       "      <td>['https://en.wikipedia.org/wiki/Lifestyle_(soc...</td>\n",
       "      <td>NaN</td>\n",
       "      <td>NaN</td>\n",
       "      <td>NaN</td>\n",
       "      <td>NaN</td>\n",
       "      <td>NaN</td>\n",
       "    </tr>\n",
       "    <tr>\n",
       "      <th>4</th>\n",
       "      <td>cExLQ1o2pDw</td>\n",
       "      <td>First To Rob Bank Wins $100,000</td>\n",
       "      <td>I didnt think he would actually rob the bank.....</td>\n",
       "      <td>2021-09-26 20:00:06+00:00</td>\n",
       "      <td>youtube#video</td>\n",
       "      <td>482</td>\n",
       "      <td>50008942.0</td>\n",
       "      <td>2359606.0</td>\n",
       "      <td>120621.0</td>\n",
       "      <td>https://i.ytimg.com/vi/cExLQ1o2pDw/default.jpg</td>\n",
       "      <td>...</td>\n",
       "      <td>480.0</td>\n",
       "      <td>360.0</td>\n",
       "      <td>PT8M2S</td>\n",
       "      <td>2d</td>\n",
       "      <td>['https://en.wikipedia.org/wiki/Lifestyle_(soc...</td>\n",
       "      <td>NaN</td>\n",
       "      <td>NaN</td>\n",
       "      <td>NaN</td>\n",
       "      <td>NaN</td>\n",
       "      <td>NaN</td>\n",
       "    </tr>\n",
       "  </tbody>\n",
       "</table>\n",
       "<p>5 rows × 26 columns</p>\n",
       "</div>"
      ],
      "text/plain": [
       "            id                                              title  \\\n",
       "0  TQHEJj68Jew               I Got Hunted By A Real Bounty Hunter   \n",
       "1  00NgUctWoLQ                   Extreme $1,000,000 Hide And Seek   \n",
       "2          NaN                                            MrBeast   \n",
       "3  ayXxwJJId_c  I Bought The World&#39;s Largest Mystery Box! ...   \n",
       "4  cExLQ1o2pDw                    First To Rob Bank Wins $100,000   \n",
       "\n",
       "                                         description  \\\n",
       "0  Sign up for Current w/ my Creator Code \"BEAST\"...   \n",
       "1  I didn't expect that to happen at the end I wa...   \n",
       "2  Accomplishments - Raised $20000000 To Plant 20...   \n",
       "3  I cant believe I spent over $500000 on mystery...   \n",
       "4  I didnt think he would actually rob the bank.....   \n",
       "\n",
       "                 publishTime     kind_stats  duration_seconds    viewCount  \\\n",
       "0  2021-04-24 20:00:00+00:00  youtube#video               861   84717282.0   \n",
       "1  2021-12-18 21:00:00+00:00  youtube#video               729   32090178.0   \n",
       "2  2012-02-20 00:43:50+00:00            NaN                 0          NaN   \n",
       "3  2021-04-03 20:00:01+00:00  youtube#video               709  101745632.0   \n",
       "4  2021-09-26 20:00:06+00:00  youtube#video               482   50008942.0   \n",
       "\n",
       "   likeCount  commentCount                             thumbnails.default.url  \\\n",
       "0  2876493.0      128922.0     https://i.ytimg.com/vi/TQHEJj68Jew/default.jpg   \n",
       "1  2125183.0       73593.0     https://i.ytimg.com/vi/00NgUctWoLQ/default.jpg   \n",
       "2        NaN           NaN  https://yt3.ggpht.com/ytc/AKedOLTctGKJ32CdDLiS...   \n",
       "3  3110824.0      162796.0     https://i.ytimg.com/vi/ayXxwJJId_c/default.jpg   \n",
       "4  2359606.0      120621.0     https://i.ytimg.com/vi/cExLQ1o2pDw/default.jpg   \n",
       "\n",
       "   ...  thumbnails.high.width  thumbnails.high.height contentDetails.duration  \\\n",
       "0  ...                  480.0                   360.0                PT14M21S   \n",
       "1  ...                  480.0                   360.0                 PT12M9S   \n",
       "2  ...                    NaN                     NaN                     NaN   \n",
       "3  ...                  480.0                   360.0                PT11M49S   \n",
       "4  ...                  480.0                   360.0                  PT8M2S   \n",
       "\n",
       "   contentDetails.dimension  \\\n",
       "0                        2d   \n",
       "1                        2d   \n",
       "2                       NaN   \n",
       "3                        2d   \n",
       "4                        2d   \n",
       "\n",
       "                        topicDetails.topicCategories snippet.defaultLanguage  \\\n",
       "0  ['https://en.wikipedia.org/wiki/Lifestyle_(soc...                     NaN   \n",
       "1  ['https://en.wikipedia.org/wiki/Lifestyle_(soc...                      en   \n",
       "2                                                NaN                     NaN   \n",
       "3  ['https://en.wikipedia.org/wiki/Lifestyle_(soc...                     NaN   \n",
       "4  ['https://en.wikipedia.org/wiki/Lifestyle_(soc...                     NaN   \n",
       "\n",
       "             localizations.en.title  \\\n",
       "0                               NaN   \n",
       "1  Extreme $1,000,000 Hide And Seek   \n",
       "2                               NaN   \n",
       "3                               NaN   \n",
       "4                               NaN   \n",
       "\n",
       "                        localizations.en.description snippet.tags  \\\n",
       "0                                                NaN          NaN   \n",
       "1  I didn't expect that to happen at the end I wa...          NaN   \n",
       "2                                                NaN          NaN   \n",
       "3                                                NaN          NaN   \n",
       "4                                                NaN          NaN   \n",
       "\n",
       "  contentDetails.contentRating.ytRating  \n",
       "0                                   NaN  \n",
       "1                                   NaN  \n",
       "2                                   NaN  \n",
       "3                                   NaN  \n",
       "4                                   NaN  \n",
       "\n",
       "[5 rows x 26 columns]"
      ]
     },
     "execution_count": 8,
     "metadata": {},
     "output_type": "execute_result"
    }
   ],
   "source": [
    "#head/Tail\n",
    "df.head()\n"
   ]
  },
  {
   "cell_type": "code",
   "execution_count": 9,
   "id": "9145bb4e",
   "metadata": {
    "execution": {
     "iopub.execute_input": "2024-03-25T16:52:23.576076Z",
     "iopub.status.busy": "2024-03-25T16:52:23.575596Z",
     "iopub.status.idle": "2024-03-25T16:52:23.606791Z",
     "shell.execute_reply": "2024-03-25T16:52:23.605212Z"
    },
    "papermill": {
     "duration": 0.050718,
     "end_time": "2024-03-25T16:52:23.609615",
     "exception": false,
     "start_time": "2024-03-25T16:52:23.558897",
     "status": "completed"
    },
    "tags": []
   },
   "outputs": [
    {
     "data": {
      "text/html": [
       "<div>\n",
       "<style scoped>\n",
       "    .dataframe tbody tr th:only-of-type {\n",
       "        vertical-align: middle;\n",
       "    }\n",
       "\n",
       "    .dataframe tbody tr th {\n",
       "        vertical-align: top;\n",
       "    }\n",
       "\n",
       "    .dataframe thead th {\n",
       "        text-align: right;\n",
       "    }\n",
       "</style>\n",
       "<table border=\"1\" class=\"dataframe\">\n",
       "  <thead>\n",
       "    <tr style=\"text-align: right;\">\n",
       "      <th></th>\n",
       "      <th>id</th>\n",
       "      <th>title</th>\n",
       "      <th>description</th>\n",
       "      <th>publishTime</th>\n",
       "      <th>kind_stats</th>\n",
       "      <th>duration_seconds</th>\n",
       "      <th>viewCount</th>\n",
       "      <th>likeCount</th>\n",
       "      <th>commentCount</th>\n",
       "      <th>thumbnails.default.url</th>\n",
       "      <th>...</th>\n",
       "      <th>thumbnails.high.width</th>\n",
       "      <th>thumbnails.high.height</th>\n",
       "      <th>contentDetails.duration</th>\n",
       "      <th>contentDetails.dimension</th>\n",
       "      <th>topicDetails.topicCategories</th>\n",
       "      <th>snippet.defaultLanguage</th>\n",
       "      <th>localizations.en.title</th>\n",
       "      <th>localizations.en.description</th>\n",
       "      <th>snippet.tags</th>\n",
       "      <th>contentDetails.contentRating.ytRating</th>\n",
       "    </tr>\n",
       "  </thead>\n",
       "  <tbody>\n",
       "    <tr>\n",
       "      <th>242</th>\n",
       "      <td>yeHjsYQ076A</td>\n",
       "      <td>Remember When COD Was Fun?</td>\n",
       "      <td>Yup, another very pointless video ▻ Subscribe?...</td>\n",
       "      <td>2015-04-26 21:26:36+00:00</td>\n",
       "      <td>youtube#video</td>\n",
       "      <td>216</td>\n",
       "      <td>16312.0</td>\n",
       "      <td>574.0</td>\n",
       "      <td>145.0</td>\n",
       "      <td>https://i.ytimg.com/vi/yeHjsYQ076A/default.jpg</td>\n",
       "      <td>...</td>\n",
       "      <td>480.0</td>\n",
       "      <td>360.0</td>\n",
       "      <td>PT3M36S</td>\n",
       "      <td>2d</td>\n",
       "      <td>['https://en.wikipedia.org/wiki/Action-adventu...</td>\n",
       "      <td>NaN</td>\n",
       "      <td>NaN</td>\n",
       "      <td>NaN</td>\n",
       "      <td>['How', 'much', 'money', 'does', 'make', 'blac...</td>\n",
       "      <td>NaN</td>\n",
       "    </tr>\n",
       "    <tr>\n",
       "      <th>243</th>\n",
       "      <td>X7doE4h6W64</td>\n",
       "      <td>Insane Gun Sync - 7 Hours To Make</td>\n",
       "      <td>Look at this - http://gyazo.com/8852509d2350db...</td>\n",
       "      <td>2015-06-21 12:22:34+00:00</td>\n",
       "      <td>youtube#video</td>\n",
       "      <td>134</td>\n",
       "      <td>15740.0</td>\n",
       "      <td>637.0</td>\n",
       "      <td>105.0</td>\n",
       "      <td>https://i.ytimg.com/vi/X7doE4h6W64/default.jpg</td>\n",
       "      <td>...</td>\n",
       "      <td>480.0</td>\n",
       "      <td>360.0</td>\n",
       "      <td>PT2M14S</td>\n",
       "      <td>2d</td>\n",
       "      <td>['https://en.wikipedia.org/wiki/Action-adventu...</td>\n",
       "      <td>NaN</td>\n",
       "      <td>NaN</td>\n",
       "      <td>NaN</td>\n",
       "      <td>['How', 'much', 'money', 'does', 'make', 'blac...</td>\n",
       "      <td>NaN</td>\n",
       "    </tr>\n",
       "    <tr>\n",
       "      <th>244</th>\n",
       "      <td>AIytwdufwW8</td>\n",
       "      <td>MY MESSAGE TO COD YOUTUBERS (Watch till end plz)</td>\n",
       "      <td>The beginning of the video is a little off top...</td>\n",
       "      <td>2015-05-29 20:07:48+00:00</td>\n",
       "      <td>youtube#video</td>\n",
       "      <td>292</td>\n",
       "      <td>18502.0</td>\n",
       "      <td>508.0</td>\n",
       "      <td>117.0</td>\n",
       "      <td>https://i.ytimg.com/vi/AIytwdufwW8/default.jpg</td>\n",
       "      <td>...</td>\n",
       "      <td>480.0</td>\n",
       "      <td>360.0</td>\n",
       "      <td>PT4M52S</td>\n",
       "      <td>2d</td>\n",
       "      <td>['https://en.wikipedia.org/wiki/Action-adventu...</td>\n",
       "      <td>NaN</td>\n",
       "      <td>NaN</td>\n",
       "      <td>NaN</td>\n",
       "      <td>['How', 'much', 'money', 'does', 'make', 'blac...</td>\n",
       "      <td>NaN</td>\n",
       "    </tr>\n",
       "    <tr>\n",
       "      <th>245</th>\n",
       "      <td>56OkH6ocYZU</td>\n",
       "      <td>L0114R - Biblical Creeper Post for Post @L0114R</td>\n",
       "      <td>His channel - https://www.youtube.com/user/the...</td>\n",
       "      <td>2015-05-15 16:48:54+00:00</td>\n",
       "      <td>youtube#video</td>\n",
       "      <td>109</td>\n",
       "      <td>16627.0</td>\n",
       "      <td>430.0</td>\n",
       "      <td>134.0</td>\n",
       "      <td>https://i.ytimg.com/vi/56OkH6ocYZU/default.jpg</td>\n",
       "      <td>...</td>\n",
       "      <td>480.0</td>\n",
       "      <td>360.0</td>\n",
       "      <td>PT1M49S</td>\n",
       "      <td>2d</td>\n",
       "      <td>['https://en.wikipedia.org/wiki/Action-adventu...</td>\n",
       "      <td>NaN</td>\n",
       "      <td>NaN</td>\n",
       "      <td>NaN</td>\n",
       "      <td>['How', 'much', 'money', 'does', 'make', 'blac...</td>\n",
       "      <td>NaN</td>\n",
       "    </tr>\n",
       "    <tr>\n",
       "      <th>246</th>\n",
       "      <td>zi7tZ-2PhLk</td>\n",
       "      <td>How Much Money Do You Make As An Uber Driver??...</td>\n",
       "      <td>In this video I talk about being an uber drive...</td>\n",
       "      <td>2015-05-31 18:31:25+00:00</td>\n",
       "      <td>youtube#video</td>\n",
       "      <td>304</td>\n",
       "      <td>18773.0</td>\n",
       "      <td>370.0</td>\n",
       "      <td>59.0</td>\n",
       "      <td>https://i.ytimg.com/vi/zi7tZ-2PhLk/default.jpg</td>\n",
       "      <td>...</td>\n",
       "      <td>480.0</td>\n",
       "      <td>360.0</td>\n",
       "      <td>PT5M4S</td>\n",
       "      <td>2d</td>\n",
       "      <td>['https://en.wikipedia.org/wiki/Action-adventu...</td>\n",
       "      <td>NaN</td>\n",
       "      <td>NaN</td>\n",
       "      <td>NaN</td>\n",
       "      <td>['How', 'much', 'money', 'does', 'make', 'blac...</td>\n",
       "      <td>NaN</td>\n",
       "    </tr>\n",
       "  </tbody>\n",
       "</table>\n",
       "<p>5 rows × 26 columns</p>\n",
       "</div>"
      ],
      "text/plain": [
       "              id                                              title  \\\n",
       "242  yeHjsYQ076A                         Remember When COD Was Fun?   \n",
       "243  X7doE4h6W64                  Insane Gun Sync - 7 Hours To Make   \n",
       "244  AIytwdufwW8   MY MESSAGE TO COD YOUTUBERS (Watch till end plz)   \n",
       "245  56OkH6ocYZU    L0114R - Biblical Creeper Post for Post @L0114R   \n",
       "246  zi7tZ-2PhLk  How Much Money Do You Make As An Uber Driver??...   \n",
       "\n",
       "                                           description  \\\n",
       "242  Yup, another very pointless video ▻ Subscribe?...   \n",
       "243  Look at this - http://gyazo.com/8852509d2350db...   \n",
       "244  The beginning of the video is a little off top...   \n",
       "245  His channel - https://www.youtube.com/user/the...   \n",
       "246  In this video I talk about being an uber drive...   \n",
       "\n",
       "                   publishTime     kind_stats  duration_seconds  viewCount  \\\n",
       "242  2015-04-26 21:26:36+00:00  youtube#video               216    16312.0   \n",
       "243  2015-06-21 12:22:34+00:00  youtube#video               134    15740.0   \n",
       "244  2015-05-29 20:07:48+00:00  youtube#video               292    18502.0   \n",
       "245  2015-05-15 16:48:54+00:00  youtube#video               109    16627.0   \n",
       "246  2015-05-31 18:31:25+00:00  youtube#video               304    18773.0   \n",
       "\n",
       "     likeCount  commentCount                          thumbnails.default.url  \\\n",
       "242      574.0         145.0  https://i.ytimg.com/vi/yeHjsYQ076A/default.jpg   \n",
       "243      637.0         105.0  https://i.ytimg.com/vi/X7doE4h6W64/default.jpg   \n",
       "244      508.0         117.0  https://i.ytimg.com/vi/AIytwdufwW8/default.jpg   \n",
       "245      430.0         134.0  https://i.ytimg.com/vi/56OkH6ocYZU/default.jpg   \n",
       "246      370.0          59.0  https://i.ytimg.com/vi/zi7tZ-2PhLk/default.jpg   \n",
       "\n",
       "     ...  thumbnails.high.width  thumbnails.high.height  \\\n",
       "242  ...                  480.0                   360.0   \n",
       "243  ...                  480.0                   360.0   \n",
       "244  ...                  480.0                   360.0   \n",
       "245  ...                  480.0                   360.0   \n",
       "246  ...                  480.0                   360.0   \n",
       "\n",
       "    contentDetails.duration  contentDetails.dimension  \\\n",
       "242                 PT3M36S                        2d   \n",
       "243                 PT2M14S                        2d   \n",
       "244                 PT4M52S                        2d   \n",
       "245                 PT1M49S                        2d   \n",
       "246                  PT5M4S                        2d   \n",
       "\n",
       "                          topicDetails.topicCategories  \\\n",
       "242  ['https://en.wikipedia.org/wiki/Action-adventu...   \n",
       "243  ['https://en.wikipedia.org/wiki/Action-adventu...   \n",
       "244  ['https://en.wikipedia.org/wiki/Action-adventu...   \n",
       "245  ['https://en.wikipedia.org/wiki/Action-adventu...   \n",
       "246  ['https://en.wikipedia.org/wiki/Action-adventu...   \n",
       "\n",
       "    snippet.defaultLanguage  localizations.en.title  \\\n",
       "242                     NaN                     NaN   \n",
       "243                     NaN                     NaN   \n",
       "244                     NaN                     NaN   \n",
       "245                     NaN                     NaN   \n",
       "246                     NaN                     NaN   \n",
       "\n",
       "     localizations.en.description  \\\n",
       "242                           NaN   \n",
       "243                           NaN   \n",
       "244                           NaN   \n",
       "245                           NaN   \n",
       "246                           NaN   \n",
       "\n",
       "                                          snippet.tags  \\\n",
       "242  ['How', 'much', 'money', 'does', 'make', 'blac...   \n",
       "243  ['How', 'much', 'money', 'does', 'make', 'blac...   \n",
       "244  ['How', 'much', 'money', 'does', 'make', 'blac...   \n",
       "245  ['How', 'much', 'money', 'does', 'make', 'blac...   \n",
       "246  ['How', 'much', 'money', 'does', 'make', 'blac...   \n",
       "\n",
       "    contentDetails.contentRating.ytRating  \n",
       "242                                   NaN  \n",
       "243                                   NaN  \n",
       "244                                   NaN  \n",
       "245                                   NaN  \n",
       "246                                   NaN  \n",
       "\n",
       "[5 rows x 26 columns]"
      ]
     },
     "execution_count": 9,
     "metadata": {},
     "output_type": "execute_result"
    }
   ],
   "source": [
    "df.tail()"
   ]
  },
  {
   "cell_type": "code",
   "execution_count": 10,
   "id": "9de571c6",
   "metadata": {
    "execution": {
     "iopub.execute_input": "2024-03-25T16:52:23.643886Z",
     "iopub.status.busy": "2024-03-25T16:52:23.643502Z",
     "iopub.status.idle": "2024-03-25T16:52:23.654657Z",
     "shell.execute_reply": "2024-03-25T16:52:23.652059Z"
    },
    "papermill": {
     "duration": 0.032149,
     "end_time": "2024-03-25T16:52:23.657807",
     "exception": false,
     "start_time": "2024-03-25T16:52:23.625658",
     "status": "completed"
    },
    "tags": []
   },
   "outputs": [
    {
     "data": {
      "text/plain": [
       "id                                        object\n",
       "title                                     object\n",
       "description                               object\n",
       "publishTime                               object\n",
       "kind_stats                                object\n",
       "duration_seconds                           int64\n",
       "viewCount                                float64\n",
       "likeCount                                float64\n",
       "commentCount                             float64\n",
       "thumbnails.default.url                    object\n",
       "thumbnails.default.width                 float64\n",
       "thumbnails.default.height                float64\n",
       "thumbnails.medium.url                     object\n",
       "thumbnails.medium.width                  float64\n",
       "thumbnails.medium.height                 float64\n",
       "thumbnails.high.url                       object\n",
       "thumbnails.high.width                    float64\n",
       "thumbnails.high.height                   float64\n",
       "contentDetails.duration                   object\n",
       "contentDetails.dimension                  object\n",
       "topicDetails.topicCategories              object\n",
       "snippet.defaultLanguage                   object\n",
       "localizations.en.title                    object\n",
       "localizations.en.description              object\n",
       "snippet.tags                              object\n",
       "contentDetails.contentRating.ytRating     object\n",
       "dtype: object"
      ]
     },
     "execution_count": 10,
     "metadata": {},
     "output_type": "execute_result"
    }
   ],
   "source": [
    "df.dtypes"
   ]
  },
  {
   "cell_type": "markdown",
   "id": "4f5ab3b2",
   "metadata": {
    "papermill": {
     "duration": 0.016417,
     "end_time": "2024-03-25T16:52:23.691777",
     "exception": false,
     "start_time": "2024-03-25T16:52:23.675360",
     "status": "completed"
    },
    "tags": []
   },
   "source": []
  },
  {
   "cell_type": "code",
   "execution_count": 11,
   "id": "4492b9d5",
   "metadata": {
    "execution": {
     "iopub.execute_input": "2024-03-25T16:52:23.727127Z",
     "iopub.status.busy": "2024-03-25T16:52:23.726663Z",
     "iopub.status.idle": "2024-03-25T16:52:23.783770Z",
     "shell.execute_reply": "2024-03-25T16:52:23.782464Z"
    },
    "papermill": {
     "duration": 0.078435,
     "end_time": "2024-03-25T16:52:23.786439",
     "exception": false,
     "start_time": "2024-03-25T16:52:23.708004",
     "status": "completed"
    },
    "tags": []
   },
   "outputs": [
    {
     "data": {
      "text/html": [
       "<div>\n",
       "<style scoped>\n",
       "    .dataframe tbody tr th:only-of-type {\n",
       "        vertical-align: middle;\n",
       "    }\n",
       "\n",
       "    .dataframe tbody tr th {\n",
       "        vertical-align: top;\n",
       "    }\n",
       "\n",
       "    .dataframe thead th {\n",
       "        text-align: right;\n",
       "    }\n",
       "</style>\n",
       "<table border=\"1\" class=\"dataframe\">\n",
       "  <thead>\n",
       "    <tr style=\"text-align: right;\">\n",
       "      <th></th>\n",
       "      <th>duration_seconds</th>\n",
       "      <th>viewCount</th>\n",
       "      <th>likeCount</th>\n",
       "      <th>commentCount</th>\n",
       "      <th>thumbnails.default.width</th>\n",
       "      <th>thumbnails.default.height</th>\n",
       "      <th>thumbnails.medium.width</th>\n",
       "      <th>thumbnails.medium.height</th>\n",
       "      <th>thumbnails.high.width</th>\n",
       "      <th>thumbnails.high.height</th>\n",
       "    </tr>\n",
       "  </thead>\n",
       "  <tbody>\n",
       "    <tr>\n",
       "      <th>count</th>\n",
       "      <td>247.000000</td>\n",
       "      <td>2.460000e+02</td>\n",
       "      <td>2.440000e+02</td>\n",
       "      <td>245.000000</td>\n",
       "      <td>246.0</td>\n",
       "      <td>246.0</td>\n",
       "      <td>246.0</td>\n",
       "      <td>246.0</td>\n",
       "      <td>246.0</td>\n",
       "      <td>246.0</td>\n",
       "    </tr>\n",
       "    <tr>\n",
       "      <th>mean</th>\n",
       "      <td>1886.234818</td>\n",
       "      <td>5.084638e+07</td>\n",
       "      <td>1.610498e+06</td>\n",
       "      <td>75562.783673</td>\n",
       "      <td>120.0</td>\n",
       "      <td>90.0</td>\n",
       "      <td>320.0</td>\n",
       "      <td>180.0</td>\n",
       "      <td>480.0</td>\n",
       "      <td>360.0</td>\n",
       "    </tr>\n",
       "    <tr>\n",
       "      <th>std</th>\n",
       "      <td>8642.188728</td>\n",
       "      <td>4.062672e+07</td>\n",
       "      <td>1.879529e+06</td>\n",
       "      <td>85356.537127</td>\n",
       "      <td>0.0</td>\n",
       "      <td>0.0</td>\n",
       "      <td>0.0</td>\n",
       "      <td>0.0</td>\n",
       "      <td>0.0</td>\n",
       "      <td>0.0</td>\n",
       "    </tr>\n",
       "    <tr>\n",
       "      <th>min</th>\n",
       "      <td>0.000000</td>\n",
       "      <td>1.395400e+04</td>\n",
       "      <td>3.700000e+02</td>\n",
       "      <td>59.000000</td>\n",
       "      <td>120.0</td>\n",
       "      <td>90.0</td>\n",
       "      <td>320.0</td>\n",
       "      <td>180.0</td>\n",
       "      <td>480.0</td>\n",
       "      <td>360.0</td>\n",
       "    </tr>\n",
       "    <tr>\n",
       "      <th>25%</th>\n",
       "      <td>425.500000</td>\n",
       "      <td>1.406442e+07</td>\n",
       "      <td>4.348780e+05</td>\n",
       "      <td>21552.000000</td>\n",
       "      <td>120.0</td>\n",
       "      <td>90.0</td>\n",
       "      <td>320.0</td>\n",
       "      <td>180.0</td>\n",
       "      <td>480.0</td>\n",
       "      <td>360.0</td>\n",
       "    </tr>\n",
       "    <tr>\n",
       "      <th>50%</th>\n",
       "      <td>776.000000</td>\n",
       "      <td>4.904782e+07</td>\n",
       "      <td>1.358232e+06</td>\n",
       "      <td>60701.000000</td>\n",
       "      <td>120.0</td>\n",
       "      <td>90.0</td>\n",
       "      <td>320.0</td>\n",
       "      <td>180.0</td>\n",
       "      <td>480.0</td>\n",
       "      <td>360.0</td>\n",
       "    </tr>\n",
       "    <tr>\n",
       "      <th>75%</th>\n",
       "      <td>923.000000</td>\n",
       "      <td>8.125392e+07</td>\n",
       "      <td>2.294378e+06</td>\n",
       "      <td>99670.000000</td>\n",
       "      <td>120.0</td>\n",
       "      <td>90.0</td>\n",
       "      <td>320.0</td>\n",
       "      <td>180.0</td>\n",
       "      <td>480.0</td>\n",
       "      <td>360.0</td>\n",
       "    </tr>\n",
       "    <tr>\n",
       "      <th>max</th>\n",
       "      <td>85686.000000</td>\n",
       "      <td>1.787632e+08</td>\n",
       "      <td>1.904943e+07</td>\n",
       "      <td>726861.000000</td>\n",
       "      <td>120.0</td>\n",
       "      <td>90.0</td>\n",
       "      <td>320.0</td>\n",
       "      <td>180.0</td>\n",
       "      <td>480.0</td>\n",
       "      <td>360.0</td>\n",
       "    </tr>\n",
       "  </tbody>\n",
       "</table>\n",
       "</div>"
      ],
      "text/plain": [
       "       duration_seconds     viewCount     likeCount   commentCount  \\\n",
       "count        247.000000  2.460000e+02  2.440000e+02     245.000000   \n",
       "mean        1886.234818  5.084638e+07  1.610498e+06   75562.783673   \n",
       "std         8642.188728  4.062672e+07  1.879529e+06   85356.537127   \n",
       "min            0.000000  1.395400e+04  3.700000e+02      59.000000   \n",
       "25%          425.500000  1.406442e+07  4.348780e+05   21552.000000   \n",
       "50%          776.000000  4.904782e+07  1.358232e+06   60701.000000   \n",
       "75%          923.000000  8.125392e+07  2.294378e+06   99670.000000   \n",
       "max        85686.000000  1.787632e+08  1.904943e+07  726861.000000   \n",
       "\n",
       "       thumbnails.default.width  thumbnails.default.height  \\\n",
       "count                     246.0                      246.0   \n",
       "mean                      120.0                       90.0   \n",
       "std                         0.0                        0.0   \n",
       "min                       120.0                       90.0   \n",
       "25%                       120.0                       90.0   \n",
       "50%                       120.0                       90.0   \n",
       "75%                       120.0                       90.0   \n",
       "max                       120.0                       90.0   \n",
       "\n",
       "       thumbnails.medium.width  thumbnails.medium.height  \\\n",
       "count                    246.0                     246.0   \n",
       "mean                     320.0                     180.0   \n",
       "std                        0.0                       0.0   \n",
       "min                      320.0                     180.0   \n",
       "25%                      320.0                     180.0   \n",
       "50%                      320.0                     180.0   \n",
       "75%                      320.0                     180.0   \n",
       "max                      320.0                     180.0   \n",
       "\n",
       "       thumbnails.high.width  thumbnails.high.height  \n",
       "count                  246.0                   246.0  \n",
       "mean                   480.0                   360.0  \n",
       "std                      0.0                     0.0  \n",
       "min                    480.0                   360.0  \n",
       "25%                    480.0                   360.0  \n",
       "50%                    480.0                   360.0  \n",
       "75%                    480.0                   360.0  \n",
       "max                    480.0                   360.0  "
      ]
     },
     "execution_count": 11,
     "metadata": {},
     "output_type": "execute_result"
    }
   ],
   "source": [
    "df.describe()\n",
    "#Basic Stats on data"
   ]
  },
  {
   "cell_type": "markdown",
   "id": "378a87c8",
   "metadata": {
    "papermill": {
     "duration": 0.016176,
     "end_time": "2024-03-25T16:52:23.819039",
     "exception": false,
     "start_time": "2024-03-25T16:52:23.802863",
     "status": "completed"
    },
    "tags": []
   },
   "source": []
  },
  {
   "cell_type": "markdown",
   "id": "4955e515",
   "metadata": {
    "papermill": {
     "duration": 0.01734,
     "end_time": "2024-03-25T16:52:23.852681",
     "exception": false,
     "start_time": "2024-03-25T16:52:23.835341",
     "status": "completed"
    },
    "tags": []
   },
   "source": [
    "# columns/rows"
   ]
  },
  {
   "cell_type": "code",
   "execution_count": 12,
   "id": "70ade716",
   "metadata": {
    "execution": {
     "iopub.execute_input": "2024-03-25T16:52:23.890047Z",
     "iopub.status.busy": "2024-03-25T16:52:23.889624Z",
     "iopub.status.idle": "2024-03-25T16:52:23.901010Z",
     "shell.execute_reply": "2024-03-25T16:52:23.899654Z"
    },
    "papermill": {
     "duration": 0.033427,
     "end_time": "2024-03-25T16:52:23.903885",
     "exception": false,
     "start_time": "2024-03-25T16:52:23.870458",
     "status": "completed"
    },
    "tags": []
   },
   "outputs": [
    {
     "data": {
      "text/plain": [
       "0       84717282.0\n",
       "1       32090178.0\n",
       "2              NaN\n",
       "3      101745632.0\n",
       "4       50008942.0\n",
       "          ...     \n",
       "242        16312.0\n",
       "243        15740.0\n",
       "244        18502.0\n",
       "245        16627.0\n",
       "246        18773.0\n",
       "Name: viewCount, Length: 247, dtype: float64"
      ]
     },
     "execution_count": 12,
     "metadata": {},
     "output_type": "execute_result"
    }
   ],
   "source": [
    "df['viewCount']"
   ]
  },
  {
   "cell_type": "code",
   "execution_count": 13,
   "id": "8db473ce",
   "metadata": {
    "execution": {
     "iopub.execute_input": "2024-03-25T16:52:24.002446Z",
     "iopub.status.busy": "2024-03-25T16:52:24.002026Z",
     "iopub.status.idle": "2024-03-25T16:52:24.011396Z",
     "shell.execute_reply": "2024-03-25T16:52:24.010218Z"
    },
    "papermill": {
     "duration": 0.029782,
     "end_time": "2024-03-25T16:52:24.013907",
     "exception": false,
     "start_time": "2024-03-25T16:52:23.984125",
     "status": "completed"
    },
    "tags": []
   },
   "outputs": [
    {
     "data": {
      "text/plain": [
       "id                                                                             cExLQ1o2pDw\n",
       "title                                                      First To Rob Bank Wins $100,000\n",
       "description                              I didnt think he would actually rob the bank.....\n",
       "publishTime                                                      2021-09-26 20:00:06+00:00\n",
       "kind_stats                                                                   youtube#video\n",
       "duration_seconds                                                                       482\n",
       "viewCount                                                                       50008942.0\n",
       "likeCount                                                                        2359606.0\n",
       "commentCount                                                                      120621.0\n",
       "thumbnails.default.url                      https://i.ytimg.com/vi/cExLQ1o2pDw/default.jpg\n",
       "thumbnails.default.width                                                             120.0\n",
       "thumbnails.default.height                                                             90.0\n",
       "thumbnails.medium.url                     https://i.ytimg.com/vi/cExLQ1o2pDw/mqdefault.jpg\n",
       "thumbnails.medium.width                                                              320.0\n",
       "thumbnails.medium.height                                                             180.0\n",
       "thumbnails.high.url                       https://i.ytimg.com/vi/cExLQ1o2pDw/hqdefault.jpg\n",
       "thumbnails.high.width                                                                480.0\n",
       "thumbnails.high.height                                                               360.0\n",
       "contentDetails.duration                                                             PT8M2S\n",
       "contentDetails.dimension                                                                2d\n",
       "topicDetails.topicCategories             ['https://en.wikipedia.org/wiki/Lifestyle_(soc...\n",
       "snippet.defaultLanguage                                                                NaN\n",
       "localizations.en.title                                                                 NaN\n",
       "localizations.en.description                                                           NaN\n",
       "snippet.tags                                                                           NaN\n",
       "contentDetails.contentRating.ytRating                                                  NaN\n",
       "Name: 4, dtype: object"
      ]
     },
     "execution_count": 13,
     "metadata": {},
     "output_type": "execute_result"
    }
   ],
   "source": [
    "#to get specifc data \n",
    "#index 4 here \n",
    "df.loc[4]"
   ]
  },
  {
   "cell_type": "code",
   "execution_count": 14,
   "id": "2f50f498",
   "metadata": {
    "execution": {
     "iopub.execute_input": "2024-03-25T16:52:24.049552Z",
     "iopub.status.busy": "2024-03-25T16:52:24.049111Z",
     "iopub.status.idle": "2024-03-25T16:52:24.056999Z",
     "shell.execute_reply": "2024-03-25T16:52:24.055521Z"
    },
    "papermill": {
     "duration": 0.02939,
     "end_time": "2024-03-25T16:52:24.060065",
     "exception": false,
     "start_time": "2024-03-25T16:52:24.030675",
     "status": "completed"
    },
    "tags": []
   },
   "outputs": [],
   "source": [
    "df =df.set_index('id').copy()"
   ]
  },
  {
   "cell_type": "code",
   "execution_count": 15,
   "id": "3d05c243",
   "metadata": {
    "execution": {
     "iopub.execute_input": "2024-03-25T16:52:24.098694Z",
     "iopub.status.busy": "2024-03-25T16:52:24.098176Z",
     "iopub.status.idle": "2024-03-25T16:52:24.110664Z",
     "shell.execute_reply": "2024-03-25T16:52:24.109322Z"
    },
    "papermill": {
     "duration": 0.034327,
     "end_time": "2024-03-25T16:52:24.113287",
     "exception": false,
     "start_time": "2024-03-25T16:52:24.078960",
     "status": "completed"
    },
    "tags": []
   },
   "outputs": [
    {
     "data": {
      "text/plain": [
       "title                                                      First To Rob Bank Wins $100,000\n",
       "description                              I didnt think he would actually rob the bank.....\n",
       "publishTime                                                      2021-09-26 20:00:06+00:00\n",
       "kind_stats                                                                   youtube#video\n",
       "duration_seconds                                                                       482\n",
       "viewCount                                                                       50008942.0\n",
       "likeCount                                                                        2359606.0\n",
       "commentCount                                                                      120621.0\n",
       "thumbnails.default.url                      https://i.ytimg.com/vi/cExLQ1o2pDw/default.jpg\n",
       "thumbnails.default.width                                                             120.0\n",
       "thumbnails.default.height                                                             90.0\n",
       "thumbnails.medium.url                     https://i.ytimg.com/vi/cExLQ1o2pDw/mqdefault.jpg\n",
       "thumbnails.medium.width                                                              320.0\n",
       "thumbnails.medium.height                                                             180.0\n",
       "thumbnails.high.url                       https://i.ytimg.com/vi/cExLQ1o2pDw/hqdefault.jpg\n",
       "thumbnails.high.width                                                                480.0\n",
       "thumbnails.high.height                                                               360.0\n",
       "contentDetails.duration                                                             PT8M2S\n",
       "contentDetails.dimension                                                                2d\n",
       "topicDetails.topicCategories             ['https://en.wikipedia.org/wiki/Lifestyle_(soc...\n",
       "snippet.defaultLanguage                                                                NaN\n",
       "localizations.en.title                                                                 NaN\n",
       "localizations.en.description                                                           NaN\n",
       "snippet.tags                                                                           NaN\n",
       "contentDetails.contentRating.ytRating                                                  NaN\n",
       "Name: cExLQ1o2pDw, dtype: object"
      ]
     },
     "execution_count": 15,
     "metadata": {},
     "output_type": "execute_result"
    }
   ],
   "source": [
    "df.loc['cExLQ1o2pDw']"
   ]
  },
  {
   "cell_type": "markdown",
   "id": "878da694",
   "metadata": {
    "papermill": {
     "duration": 0.016891,
     "end_time": "2024-03-25T16:52:24.147914",
     "exception": false,
     "start_time": "2024-03-25T16:52:24.131023",
     "status": "completed"
    },
    "tags": []
   },
   "source": [
    "# Subsetting Data"
   ]
  },
  {
   "cell_type": "code",
   "execution_count": 16,
   "id": "d2e7acc0",
   "metadata": {
    "execution": {
     "iopub.execute_input": "2024-03-25T16:52:24.187764Z",
     "iopub.status.busy": "2024-03-25T16:52:24.187336Z",
     "iopub.status.idle": "2024-03-25T16:52:24.194478Z",
     "shell.execute_reply": "2024-03-25T16:52:24.193254Z"
    },
    "papermill": {
     "duration": 0.029659,
     "end_time": "2024-03-25T16:52:24.196928",
     "exception": false,
     "start_time": "2024-03-25T16:52:24.167269",
     "status": "completed"
    },
    "tags": []
   },
   "outputs": [],
   "source": [
    "#subsetting Columns \n",
    "df = df[['title', 'description', 'publishTime', \n",
    "     'duration_seconds',\n",
    "       'viewCount', 'likeCount', 'commentCount']]"
   ]
  },
  {
   "cell_type": "code",
   "execution_count": 17,
   "id": "68a26966",
   "metadata": {
    "execution": {
     "iopub.execute_input": "2024-03-25T16:52:24.235186Z",
     "iopub.status.busy": "2024-03-25T16:52:24.234783Z",
     "iopub.status.idle": "2024-03-25T16:52:24.254127Z",
     "shell.execute_reply": "2024-03-25T16:52:24.252705Z"
    },
    "papermill": {
     "duration": 0.041587,
     "end_time": "2024-03-25T16:52:24.257081",
     "exception": false,
     "start_time": "2024-03-25T16:52:24.215494",
     "status": "completed"
    },
    "tags": []
   },
   "outputs": [
    {
     "data": {
      "text/html": [
       "<div>\n",
       "<style scoped>\n",
       "    .dataframe tbody tr th:only-of-type {\n",
       "        vertical-align: middle;\n",
       "    }\n",
       "\n",
       "    .dataframe tbody tr th {\n",
       "        vertical-align: top;\n",
       "    }\n",
       "\n",
       "    .dataframe thead th {\n",
       "        text-align: right;\n",
       "    }\n",
       "</style>\n",
       "<table border=\"1\" class=\"dataframe\">\n",
       "  <thead>\n",
       "    <tr style=\"text-align: right;\">\n",
       "      <th></th>\n",
       "      <th>title</th>\n",
       "      <th>description</th>\n",
       "      <th>publishTime</th>\n",
       "      <th>duration_seconds</th>\n",
       "      <th>viewCount</th>\n",
       "      <th>likeCount</th>\n",
       "      <th>commentCount</th>\n",
       "    </tr>\n",
       "    <tr>\n",
       "      <th>id</th>\n",
       "      <th></th>\n",
       "      <th></th>\n",
       "      <th></th>\n",
       "      <th></th>\n",
       "      <th></th>\n",
       "      <th></th>\n",
       "      <th></th>\n",
       "    </tr>\n",
       "  </thead>\n",
       "  <tbody>\n",
       "    <tr>\n",
       "      <th>TQHEJj68Jew</th>\n",
       "      <td>I Got Hunted By A Real Bounty Hunter</td>\n",
       "      <td>Sign up for Current w/ my Creator Code \"BEAST\"...</td>\n",
       "      <td>2021-04-24 20:00:00+00:00</td>\n",
       "      <td>861</td>\n",
       "      <td>84717282.0</td>\n",
       "      <td>2876493.0</td>\n",
       "      <td>128922.0</td>\n",
       "    </tr>\n",
       "    <tr>\n",
       "      <th>00NgUctWoLQ</th>\n",
       "      <td>Extreme $1,000,000 Hide And Seek</td>\n",
       "      <td>I didn't expect that to happen at the end I wa...</td>\n",
       "      <td>2021-12-18 21:00:00+00:00</td>\n",
       "      <td>729</td>\n",
       "      <td>32090178.0</td>\n",
       "      <td>2125183.0</td>\n",
       "      <td>73593.0</td>\n",
       "    </tr>\n",
       "    <tr>\n",
       "      <th>NaN</th>\n",
       "      <td>MrBeast</td>\n",
       "      <td>Accomplishments - Raised $20000000 To Plant 20...</td>\n",
       "      <td>2012-02-20 00:43:50+00:00</td>\n",
       "      <td>0</td>\n",
       "      <td>NaN</td>\n",
       "      <td>NaN</td>\n",
       "      <td>NaN</td>\n",
       "    </tr>\n",
       "    <tr>\n",
       "      <th>ayXxwJJId_c</th>\n",
       "      <td>I Bought The World&amp;#39;s Largest Mystery Box! ...</td>\n",
       "      <td>I cant believe I spent over $500000 on mystery...</td>\n",
       "      <td>2021-04-03 20:00:01+00:00</td>\n",
       "      <td>709</td>\n",
       "      <td>101745632.0</td>\n",
       "      <td>3110824.0</td>\n",
       "      <td>162796.0</td>\n",
       "    </tr>\n",
       "    <tr>\n",
       "      <th>cExLQ1o2pDw</th>\n",
       "      <td>First To Rob Bank Wins $100,000</td>\n",
       "      <td>I didnt think he would actually rob the bank.....</td>\n",
       "      <td>2021-09-26 20:00:06+00:00</td>\n",
       "      <td>482</td>\n",
       "      <td>50008942.0</td>\n",
       "      <td>2359606.0</td>\n",
       "      <td>120621.0</td>\n",
       "    </tr>\n",
       "  </tbody>\n",
       "</table>\n",
       "</div>"
      ],
      "text/plain": [
       "                                                         title  \\\n",
       "id                                                               \n",
       "TQHEJj68Jew               I Got Hunted By A Real Bounty Hunter   \n",
       "00NgUctWoLQ                   Extreme $1,000,000 Hide And Seek   \n",
       "NaN                                                    MrBeast   \n",
       "ayXxwJJId_c  I Bought The World&#39;s Largest Mystery Box! ...   \n",
       "cExLQ1o2pDw                    First To Rob Bank Wins $100,000   \n",
       "\n",
       "                                                   description  \\\n",
       "id                                                               \n",
       "TQHEJj68Jew  Sign up for Current w/ my Creator Code \"BEAST\"...   \n",
       "00NgUctWoLQ  I didn't expect that to happen at the end I wa...   \n",
       "NaN          Accomplishments - Raised $20000000 To Plant 20...   \n",
       "ayXxwJJId_c  I cant believe I spent over $500000 on mystery...   \n",
       "cExLQ1o2pDw  I didnt think he would actually rob the bank.....   \n",
       "\n",
       "                           publishTime  duration_seconds    viewCount  \\\n",
       "id                                                                      \n",
       "TQHEJj68Jew  2021-04-24 20:00:00+00:00               861   84717282.0   \n",
       "00NgUctWoLQ  2021-12-18 21:00:00+00:00               729   32090178.0   \n",
       "NaN          2012-02-20 00:43:50+00:00                 0          NaN   \n",
       "ayXxwJJId_c  2021-04-03 20:00:01+00:00               709  101745632.0   \n",
       "cExLQ1o2pDw  2021-09-26 20:00:06+00:00               482   50008942.0   \n",
       "\n",
       "             likeCount  commentCount  \n",
       "id                                    \n",
       "TQHEJj68Jew  2876493.0      128922.0  \n",
       "00NgUctWoLQ  2125183.0       73593.0  \n",
       "NaN                NaN           NaN  \n",
       "ayXxwJJId_c  3110824.0      162796.0  \n",
       "cExLQ1o2pDw  2359606.0      120621.0  "
      ]
     },
     "execution_count": 17,
     "metadata": {},
     "output_type": "execute_result"
    }
   ],
   "source": [
    "df.head()"
   ]
  },
  {
   "cell_type": "code",
   "execution_count": 18,
   "id": "bf465496",
   "metadata": {
    "execution": {
     "iopub.execute_input": "2024-03-25T16:52:24.295690Z",
     "iopub.status.busy": "2024-03-25T16:52:24.295271Z",
     "iopub.status.idle": "2024-03-25T16:52:24.302356Z",
     "shell.execute_reply": "2024-03-25T16:52:24.301450Z"
    },
    "papermill": {
     "duration": 0.029586,
     "end_time": "2024-03-25T16:52:24.304747",
     "exception": false,
     "start_time": "2024-03-25T16:52:24.275161",
     "status": "completed"
    },
    "tags": []
   },
   "outputs": [
    {
     "data": {
      "text/plain": [
       "(247, 7)"
      ]
     },
     "execution_count": 18,
     "metadata": {},
     "output_type": "execute_result"
    }
   ],
   "source": [
    "df.shape"
   ]
  },
  {
   "cell_type": "code",
   "execution_count": 19,
   "id": "a2c94b7d",
   "metadata": {
    "execution": {
     "iopub.execute_input": "2024-03-25T16:52:24.343704Z",
     "iopub.status.busy": "2024-03-25T16:52:24.343284Z",
     "iopub.status.idle": "2024-03-25T16:52:24.349430Z",
     "shell.execute_reply": "2024-03-25T16:52:24.348520Z"
    },
    "papermill": {
     "duration": 0.027954,
     "end_time": "2024-03-25T16:52:24.352003",
     "exception": false,
     "start_time": "2024-03-25T16:52:24.324049",
     "status": "completed"
    },
    "tags": []
   },
   "outputs": [],
   "source": [
    "#subsetting using loc \n",
    "df_subsets1 = df.loc[df['viewCount']> 1000_000]"
   ]
  },
  {
   "cell_type": "code",
   "execution_count": 20,
   "id": "04e39181",
   "metadata": {
    "execution": {
     "iopub.execute_input": "2024-03-25T16:52:24.390821Z",
     "iopub.status.busy": "2024-03-25T16:52:24.389452Z",
     "iopub.status.idle": "2024-03-25T16:52:24.400985Z",
     "shell.execute_reply": "2024-03-25T16:52:24.399962Z"
    },
    "papermill": {
     "duration": 0.033875,
     "end_time": "2024-03-25T16:52:24.403863",
     "exception": false,
     "start_time": "2024-03-25T16:52:24.369988",
     "status": "completed"
    },
    "tags": []
   },
   "outputs": [],
   "source": [
    "df_subsets2 = df.query('viewCount>1000000')"
   ]
  },
  {
   "cell_type": "code",
   "execution_count": 21,
   "id": "e56bd63d",
   "metadata": {
    "execution": {
     "iopub.execute_input": "2024-03-25T16:52:24.444550Z",
     "iopub.status.busy": "2024-03-25T16:52:24.444145Z",
     "iopub.status.idle": "2024-03-25T16:52:24.464395Z",
     "shell.execute_reply": "2024-03-25T16:52:24.463182Z"
    },
    "papermill": {
     "duration": 0.043384,
     "end_time": "2024-03-25T16:52:24.466905",
     "exception": false,
     "start_time": "2024-03-25T16:52:24.423521",
     "status": "completed"
    },
    "tags": []
   },
   "outputs": [
    {
     "data": {
      "text/html": [
       "<div>\n",
       "<style scoped>\n",
       "    .dataframe tbody tr th:only-of-type {\n",
       "        vertical-align: middle;\n",
       "    }\n",
       "\n",
       "    .dataframe tbody tr th {\n",
       "        vertical-align: top;\n",
       "    }\n",
       "\n",
       "    .dataframe thead th {\n",
       "        text-align: right;\n",
       "    }\n",
       "</style>\n",
       "<table border=\"1\" class=\"dataframe\">\n",
       "  <thead>\n",
       "    <tr style=\"text-align: right;\">\n",
       "      <th></th>\n",
       "      <th>title</th>\n",
       "      <th>description</th>\n",
       "      <th>publishTime</th>\n",
       "      <th>duration_seconds</th>\n",
       "      <th>viewCount</th>\n",
       "      <th>likeCount</th>\n",
       "      <th>commentCount</th>\n",
       "    </tr>\n",
       "    <tr>\n",
       "      <th>id</th>\n",
       "      <th></th>\n",
       "      <th></th>\n",
       "      <th></th>\n",
       "      <th></th>\n",
       "      <th></th>\n",
       "      <th></th>\n",
       "      <th></th>\n",
       "    </tr>\n",
       "  </thead>\n",
       "  <tbody>\n",
       "    <tr>\n",
       "      <th>TQHEJj68Jew</th>\n",
       "      <td>I Got Hunted By A Real Bounty Hunter</td>\n",
       "      <td>Sign up for Current w/ my Creator Code \"BEAST\"...</td>\n",
       "      <td>2021-04-24 20:00:00+00:00</td>\n",
       "      <td>861</td>\n",
       "      <td>84717282.0</td>\n",
       "      <td>2876493.0</td>\n",
       "      <td>128922.0</td>\n",
       "    </tr>\n",
       "    <tr>\n",
       "      <th>00NgUctWoLQ</th>\n",
       "      <td>Extreme $1,000,000 Hide And Seek</td>\n",
       "      <td>I didn't expect that to happen at the end I wa...</td>\n",
       "      <td>2021-12-18 21:00:00+00:00</td>\n",
       "      <td>729</td>\n",
       "      <td>32090178.0</td>\n",
       "      <td>2125183.0</td>\n",
       "      <td>73593.0</td>\n",
       "    </tr>\n",
       "    <tr>\n",
       "      <th>NaN</th>\n",
       "      <td>MrBeast</td>\n",
       "      <td>Accomplishments - Raised $20000000 To Plant 20...</td>\n",
       "      <td>2012-02-20 00:43:50+00:00</td>\n",
       "      <td>0</td>\n",
       "      <td>NaN</td>\n",
       "      <td>NaN</td>\n",
       "      <td>NaN</td>\n",
       "    </tr>\n",
       "    <tr>\n",
       "      <th>ayXxwJJId_c</th>\n",
       "      <td>I Bought The World&amp;#39;s Largest Mystery Box! ...</td>\n",
       "      <td>I cant believe I spent over $500000 on mystery...</td>\n",
       "      <td>2021-04-03 20:00:01+00:00</td>\n",
       "      <td>709</td>\n",
       "      <td>101745632.0</td>\n",
       "      <td>3110824.0</td>\n",
       "      <td>162796.0</td>\n",
       "    </tr>\n",
       "    <tr>\n",
       "      <th>cExLQ1o2pDw</th>\n",
       "      <td>First To Rob Bank Wins $100,000</td>\n",
       "      <td>I didnt think he would actually rob the bank.....</td>\n",
       "      <td>2021-09-26 20:00:06+00:00</td>\n",
       "      <td>482</td>\n",
       "      <td>50008942.0</td>\n",
       "      <td>2359606.0</td>\n",
       "      <td>120621.0</td>\n",
       "    </tr>\n",
       "    <tr>\n",
       "      <th>...</th>\n",
       "      <td>...</td>\n",
       "      <td>...</td>\n",
       "      <td>...</td>\n",
       "      <td>...</td>\n",
       "      <td>...</td>\n",
       "      <td>...</td>\n",
       "      <td>...</td>\n",
       "    </tr>\n",
       "    <tr>\n",
       "      <th>yeHjsYQ076A</th>\n",
       "      <td>Remember When COD Was Fun?</td>\n",
       "      <td>Yup, another very pointless video ▻ Subscribe?...</td>\n",
       "      <td>2015-04-26 21:26:36+00:00</td>\n",
       "      <td>216</td>\n",
       "      <td>16312.0</td>\n",
       "      <td>574.0</td>\n",
       "      <td>145.0</td>\n",
       "    </tr>\n",
       "    <tr>\n",
       "      <th>X7doE4h6W64</th>\n",
       "      <td>Insane Gun Sync - 7 Hours To Make</td>\n",
       "      <td>Look at this - http://gyazo.com/8852509d2350db...</td>\n",
       "      <td>2015-06-21 12:22:34+00:00</td>\n",
       "      <td>134</td>\n",
       "      <td>15740.0</td>\n",
       "      <td>637.0</td>\n",
       "      <td>105.0</td>\n",
       "    </tr>\n",
       "    <tr>\n",
       "      <th>AIytwdufwW8</th>\n",
       "      <td>MY MESSAGE TO COD YOUTUBERS (Watch till end plz)</td>\n",
       "      <td>The beginning of the video is a little off top...</td>\n",
       "      <td>2015-05-29 20:07:48+00:00</td>\n",
       "      <td>292</td>\n",
       "      <td>18502.0</td>\n",
       "      <td>508.0</td>\n",
       "      <td>117.0</td>\n",
       "    </tr>\n",
       "    <tr>\n",
       "      <th>56OkH6ocYZU</th>\n",
       "      <td>L0114R - Biblical Creeper Post for Post @L0114R</td>\n",
       "      <td>His channel - https://www.youtube.com/user/the...</td>\n",
       "      <td>2015-05-15 16:48:54+00:00</td>\n",
       "      <td>109</td>\n",
       "      <td>16627.0</td>\n",
       "      <td>430.0</td>\n",
       "      <td>134.0</td>\n",
       "    </tr>\n",
       "    <tr>\n",
       "      <th>zi7tZ-2PhLk</th>\n",
       "      <td>How Much Money Do You Make As An Uber Driver??...</td>\n",
       "      <td>In this video I talk about being an uber drive...</td>\n",
       "      <td>2015-05-31 18:31:25+00:00</td>\n",
       "      <td>304</td>\n",
       "      <td>18773.0</td>\n",
       "      <td>370.0</td>\n",
       "      <td>59.0</td>\n",
       "    </tr>\n",
       "  </tbody>\n",
       "</table>\n",
       "<p>247 rows × 7 columns</p>\n",
       "</div>"
      ],
      "text/plain": [
       "                                                         title  \\\n",
       "id                                                               \n",
       "TQHEJj68Jew               I Got Hunted By A Real Bounty Hunter   \n",
       "00NgUctWoLQ                   Extreme $1,000,000 Hide And Seek   \n",
       "NaN                                                    MrBeast   \n",
       "ayXxwJJId_c  I Bought The World&#39;s Largest Mystery Box! ...   \n",
       "cExLQ1o2pDw                    First To Rob Bank Wins $100,000   \n",
       "...                                                        ...   \n",
       "yeHjsYQ076A                         Remember When COD Was Fun?   \n",
       "X7doE4h6W64                  Insane Gun Sync - 7 Hours To Make   \n",
       "AIytwdufwW8   MY MESSAGE TO COD YOUTUBERS (Watch till end plz)   \n",
       "56OkH6ocYZU    L0114R - Biblical Creeper Post for Post @L0114R   \n",
       "zi7tZ-2PhLk  How Much Money Do You Make As An Uber Driver??...   \n",
       "\n",
       "                                                   description  \\\n",
       "id                                                               \n",
       "TQHEJj68Jew  Sign up for Current w/ my Creator Code \"BEAST\"...   \n",
       "00NgUctWoLQ  I didn't expect that to happen at the end I wa...   \n",
       "NaN          Accomplishments - Raised $20000000 To Plant 20...   \n",
       "ayXxwJJId_c  I cant believe I spent over $500000 on mystery...   \n",
       "cExLQ1o2pDw  I didnt think he would actually rob the bank.....   \n",
       "...                                                        ...   \n",
       "yeHjsYQ076A  Yup, another very pointless video ▻ Subscribe?...   \n",
       "X7doE4h6W64  Look at this - http://gyazo.com/8852509d2350db...   \n",
       "AIytwdufwW8  The beginning of the video is a little off top...   \n",
       "56OkH6ocYZU  His channel - https://www.youtube.com/user/the...   \n",
       "zi7tZ-2PhLk  In this video I talk about being an uber drive...   \n",
       "\n",
       "                           publishTime  duration_seconds    viewCount  \\\n",
       "id                                                                      \n",
       "TQHEJj68Jew  2021-04-24 20:00:00+00:00               861   84717282.0   \n",
       "00NgUctWoLQ  2021-12-18 21:00:00+00:00               729   32090178.0   \n",
       "NaN          2012-02-20 00:43:50+00:00                 0          NaN   \n",
       "ayXxwJJId_c  2021-04-03 20:00:01+00:00               709  101745632.0   \n",
       "cExLQ1o2pDw  2021-09-26 20:00:06+00:00               482   50008942.0   \n",
       "...                                ...               ...          ...   \n",
       "yeHjsYQ076A  2015-04-26 21:26:36+00:00               216      16312.0   \n",
       "X7doE4h6W64  2015-06-21 12:22:34+00:00               134      15740.0   \n",
       "AIytwdufwW8  2015-05-29 20:07:48+00:00               292      18502.0   \n",
       "56OkH6ocYZU  2015-05-15 16:48:54+00:00               109      16627.0   \n",
       "zi7tZ-2PhLk  2015-05-31 18:31:25+00:00               304      18773.0   \n",
       "\n",
       "             likeCount  commentCount  \n",
       "id                                    \n",
       "TQHEJj68Jew  2876493.0      128922.0  \n",
       "00NgUctWoLQ  2125183.0       73593.0  \n",
       "NaN                NaN           NaN  \n",
       "ayXxwJJId_c  3110824.0      162796.0  \n",
       "cExLQ1o2pDw  2359606.0      120621.0  \n",
       "...                ...           ...  \n",
       "yeHjsYQ076A      574.0         145.0  \n",
       "X7doE4h6W64      637.0         105.0  \n",
       "AIytwdufwW8      508.0         117.0  \n",
       "56OkH6ocYZU      430.0         134.0  \n",
       "zi7tZ-2PhLk      370.0          59.0  \n",
       "\n",
       "[247 rows x 7 columns]"
      ]
     },
     "execution_count": 21,
     "metadata": {},
     "output_type": "execute_result"
    }
   ],
   "source": [
    "df"
   ]
  },
  {
   "cell_type": "markdown",
   "id": "99873ed5",
   "metadata": {
    "papermill": {
     "duration": 0.017724,
     "end_time": "2024-03-25T16:52:24.502697",
     "exception": false,
     "start_time": "2024-03-25T16:52:24.484973",
     "status": "completed"
    },
    "tags": []
   },
   "source": [
    "# Removing the null "
   ]
  },
  {
   "cell_type": "markdown",
   "id": "ee1d8513",
   "metadata": {
    "papermill": {
     "duration": 0.017721,
     "end_time": "2024-03-25T16:52:24.539148",
     "exception": false,
     "start_time": "2024-03-25T16:52:24.521427",
     "status": "completed"
    },
    "tags": []
   },
   "source": []
  },
  {
   "cell_type": "code",
   "execution_count": 22,
   "id": "5e6fc0a9",
   "metadata": {
    "execution": {
     "iopub.execute_input": "2024-03-25T16:52:24.577291Z",
     "iopub.status.busy": "2024-03-25T16:52:24.576870Z",
     "iopub.status.idle": "2024-03-25T16:52:24.598672Z",
     "shell.execute_reply": "2024-03-25T16:52:24.597508Z"
    },
    "papermill": {
     "duration": 0.04406,
     "end_time": "2024-03-25T16:52:24.601418",
     "exception": false,
     "start_time": "2024-03-25T16:52:24.557358",
     "status": "completed"
    },
    "tags": []
   },
   "outputs": [
    {
     "data": {
      "text/html": [
       "<div>\n",
       "<style scoped>\n",
       "    .dataframe tbody tr th:only-of-type {\n",
       "        vertical-align: middle;\n",
       "    }\n",
       "\n",
       "    .dataframe tbody tr th {\n",
       "        vertical-align: top;\n",
       "    }\n",
       "\n",
       "    .dataframe thead th {\n",
       "        text-align: right;\n",
       "    }\n",
       "</style>\n",
       "<table border=\"1\" class=\"dataframe\">\n",
       "  <thead>\n",
       "    <tr style=\"text-align: right;\">\n",
       "      <th></th>\n",
       "      <th>title</th>\n",
       "      <th>description</th>\n",
       "      <th>publishTime</th>\n",
       "      <th>duration_seconds</th>\n",
       "      <th>viewCount</th>\n",
       "      <th>likeCount</th>\n",
       "      <th>commentCount</th>\n",
       "    </tr>\n",
       "    <tr>\n",
       "      <th>id</th>\n",
       "      <th></th>\n",
       "      <th></th>\n",
       "      <th></th>\n",
       "      <th></th>\n",
       "      <th></th>\n",
       "      <th></th>\n",
       "      <th></th>\n",
       "    </tr>\n",
       "  </thead>\n",
       "  <tbody>\n",
       "    <tr>\n",
       "      <th>TQHEJj68Jew</th>\n",
       "      <td>I Got Hunted By A Real Bounty Hunter</td>\n",
       "      <td>Sign up for Current w/ my Creator Code \"BEAST\"...</td>\n",
       "      <td>2021-04-24 20:00:00+00:00</td>\n",
       "      <td>861</td>\n",
       "      <td>84717282.0</td>\n",
       "      <td>2876493.0</td>\n",
       "      <td>128922.0</td>\n",
       "    </tr>\n",
       "    <tr>\n",
       "      <th>00NgUctWoLQ</th>\n",
       "      <td>Extreme $1,000,000 Hide And Seek</td>\n",
       "      <td>I didn't expect that to happen at the end I wa...</td>\n",
       "      <td>2021-12-18 21:00:00+00:00</td>\n",
       "      <td>729</td>\n",
       "      <td>32090178.0</td>\n",
       "      <td>2125183.0</td>\n",
       "      <td>73593.0</td>\n",
       "    </tr>\n",
       "    <tr>\n",
       "      <th>ayXxwJJId_c</th>\n",
       "      <td>I Bought The World&amp;#39;s Largest Mystery Box! ...</td>\n",
       "      <td>I cant believe I spent over $500000 on mystery...</td>\n",
       "      <td>2021-04-03 20:00:01+00:00</td>\n",
       "      <td>709</td>\n",
       "      <td>101745632.0</td>\n",
       "      <td>3110824.0</td>\n",
       "      <td>162796.0</td>\n",
       "    </tr>\n",
       "    <tr>\n",
       "      <th>cExLQ1o2pDw</th>\n",
       "      <td>First To Rob Bank Wins $100,000</td>\n",
       "      <td>I didnt think he would actually rob the bank.....</td>\n",
       "      <td>2021-09-26 20:00:06+00:00</td>\n",
       "      <td>482</td>\n",
       "      <td>50008942.0</td>\n",
       "      <td>2359606.0</td>\n",
       "      <td>120621.0</td>\n",
       "    </tr>\n",
       "    <tr>\n",
       "      <th>GLoeAJUcz38</th>\n",
       "      <td>Press This Button To Win $100,000!</td>\n",
       "      <td>Push the red subscribe button and you could al...</td>\n",
       "      <td>2020-11-14 21:00:02+00:00</td>\n",
       "      <td>911</td>\n",
       "      <td>145527042.0</td>\n",
       "      <td>2762425.0</td>\n",
       "      <td>83853.0</td>\n",
       "    </tr>\n",
       "    <tr>\n",
       "      <th>...</th>\n",
       "      <td>...</td>\n",
       "      <td>...</td>\n",
       "      <td>...</td>\n",
       "      <td>...</td>\n",
       "      <td>...</td>\n",
       "      <td>...</td>\n",
       "      <td>...</td>\n",
       "    </tr>\n",
       "    <tr>\n",
       "      <th>yeHjsYQ076A</th>\n",
       "      <td>Remember When COD Was Fun?</td>\n",
       "      <td>Yup, another very pointless video ▻ Subscribe?...</td>\n",
       "      <td>2015-04-26 21:26:36+00:00</td>\n",
       "      <td>216</td>\n",
       "      <td>16312.0</td>\n",
       "      <td>574.0</td>\n",
       "      <td>145.0</td>\n",
       "    </tr>\n",
       "    <tr>\n",
       "      <th>X7doE4h6W64</th>\n",
       "      <td>Insane Gun Sync - 7 Hours To Make</td>\n",
       "      <td>Look at this - http://gyazo.com/8852509d2350db...</td>\n",
       "      <td>2015-06-21 12:22:34+00:00</td>\n",
       "      <td>134</td>\n",
       "      <td>15740.0</td>\n",
       "      <td>637.0</td>\n",
       "      <td>105.0</td>\n",
       "    </tr>\n",
       "    <tr>\n",
       "      <th>AIytwdufwW8</th>\n",
       "      <td>MY MESSAGE TO COD YOUTUBERS (Watch till end plz)</td>\n",
       "      <td>The beginning of the video is a little off top...</td>\n",
       "      <td>2015-05-29 20:07:48+00:00</td>\n",
       "      <td>292</td>\n",
       "      <td>18502.0</td>\n",
       "      <td>508.0</td>\n",
       "      <td>117.0</td>\n",
       "    </tr>\n",
       "    <tr>\n",
       "      <th>56OkH6ocYZU</th>\n",
       "      <td>L0114R - Biblical Creeper Post for Post @L0114R</td>\n",
       "      <td>His channel - https://www.youtube.com/user/the...</td>\n",
       "      <td>2015-05-15 16:48:54+00:00</td>\n",
       "      <td>109</td>\n",
       "      <td>16627.0</td>\n",
       "      <td>430.0</td>\n",
       "      <td>134.0</td>\n",
       "    </tr>\n",
       "    <tr>\n",
       "      <th>zi7tZ-2PhLk</th>\n",
       "      <td>How Much Money Do You Make As An Uber Driver??...</td>\n",
       "      <td>In this video I talk about being an uber drive...</td>\n",
       "      <td>2015-05-31 18:31:25+00:00</td>\n",
       "      <td>304</td>\n",
       "      <td>18773.0</td>\n",
       "      <td>370.0</td>\n",
       "      <td>59.0</td>\n",
       "    </tr>\n",
       "  </tbody>\n",
       "</table>\n",
       "<p>246 rows × 7 columns</p>\n",
       "</div>"
      ],
      "text/plain": [
       "                                                         title  \\\n",
       "id                                                               \n",
       "TQHEJj68Jew               I Got Hunted By A Real Bounty Hunter   \n",
       "00NgUctWoLQ                   Extreme $1,000,000 Hide And Seek   \n",
       "ayXxwJJId_c  I Bought The World&#39;s Largest Mystery Box! ...   \n",
       "cExLQ1o2pDw                    First To Rob Bank Wins $100,000   \n",
       "GLoeAJUcz38                 Press This Button To Win $100,000!   \n",
       "...                                                        ...   \n",
       "yeHjsYQ076A                         Remember When COD Was Fun?   \n",
       "X7doE4h6W64                  Insane Gun Sync - 7 Hours To Make   \n",
       "AIytwdufwW8   MY MESSAGE TO COD YOUTUBERS (Watch till end plz)   \n",
       "56OkH6ocYZU    L0114R - Biblical Creeper Post for Post @L0114R   \n",
       "zi7tZ-2PhLk  How Much Money Do You Make As An Uber Driver??...   \n",
       "\n",
       "                                                   description  \\\n",
       "id                                                               \n",
       "TQHEJj68Jew  Sign up for Current w/ my Creator Code \"BEAST\"...   \n",
       "00NgUctWoLQ  I didn't expect that to happen at the end I wa...   \n",
       "ayXxwJJId_c  I cant believe I spent over $500000 on mystery...   \n",
       "cExLQ1o2pDw  I didnt think he would actually rob the bank.....   \n",
       "GLoeAJUcz38  Push the red subscribe button and you could al...   \n",
       "...                                                        ...   \n",
       "yeHjsYQ076A  Yup, another very pointless video ▻ Subscribe?...   \n",
       "X7doE4h6W64  Look at this - http://gyazo.com/8852509d2350db...   \n",
       "AIytwdufwW8  The beginning of the video is a little off top...   \n",
       "56OkH6ocYZU  His channel - https://www.youtube.com/user/the...   \n",
       "zi7tZ-2PhLk  In this video I talk about being an uber drive...   \n",
       "\n",
       "                           publishTime  duration_seconds    viewCount  \\\n",
       "id                                                                      \n",
       "TQHEJj68Jew  2021-04-24 20:00:00+00:00               861   84717282.0   \n",
       "00NgUctWoLQ  2021-12-18 21:00:00+00:00               729   32090178.0   \n",
       "ayXxwJJId_c  2021-04-03 20:00:01+00:00               709  101745632.0   \n",
       "cExLQ1o2pDw  2021-09-26 20:00:06+00:00               482   50008942.0   \n",
       "GLoeAJUcz38  2020-11-14 21:00:02+00:00               911  145527042.0   \n",
       "...                                ...               ...          ...   \n",
       "yeHjsYQ076A  2015-04-26 21:26:36+00:00               216      16312.0   \n",
       "X7doE4h6W64  2015-06-21 12:22:34+00:00               134      15740.0   \n",
       "AIytwdufwW8  2015-05-29 20:07:48+00:00               292      18502.0   \n",
       "56OkH6ocYZU  2015-05-15 16:48:54+00:00               109      16627.0   \n",
       "zi7tZ-2PhLk  2015-05-31 18:31:25+00:00               304      18773.0   \n",
       "\n",
       "             likeCount  commentCount  \n",
       "id                                    \n",
       "TQHEJj68Jew  2876493.0      128922.0  \n",
       "00NgUctWoLQ  2125183.0       73593.0  \n",
       "ayXxwJJId_c  3110824.0      162796.0  \n",
       "cExLQ1o2pDw  2359606.0      120621.0  \n",
       "GLoeAJUcz38  2762425.0       83853.0  \n",
       "...                ...           ...  \n",
       "yeHjsYQ076A      574.0         145.0  \n",
       "X7doE4h6W64      637.0         105.0  \n",
       "AIytwdufwW8      508.0         117.0  \n",
       "56OkH6ocYZU      430.0         134.0  \n",
       "zi7tZ-2PhLk      370.0          59.0  \n",
       "\n",
       "[246 rows x 7 columns]"
      ]
     },
     "execution_count": 22,
     "metadata": {},
     "output_type": "execute_result"
    }
   ],
   "source": [
    "df = df.loc[~df['viewCount'].isna()]\n",
    "df"
   ]
  },
  {
   "cell_type": "code",
   "execution_count": 23,
   "id": "f13d65f1",
   "metadata": {
    "execution": {
     "iopub.execute_input": "2024-03-25T16:52:24.644428Z",
     "iopub.status.busy": "2024-03-25T16:52:24.643588Z",
     "iopub.status.idle": "2024-03-25T16:52:24.650116Z",
     "shell.execute_reply": "2024-03-25T16:52:24.649112Z"
    },
    "papermill": {
     "duration": 0.031863,
     "end_time": "2024-03-25T16:52:24.652798",
     "exception": false,
     "start_time": "2024-03-25T16:52:24.620935",
     "status": "completed"
    },
    "tags": []
   },
   "outputs": [],
   "source": [
    "df = df.loc[~df['likeCount'].isna()]\n"
   ]
  },
  {
   "cell_type": "markdown",
   "id": "42e44eea",
   "metadata": {
    "papermill": {
     "duration": 0.018408,
     "end_time": "2024-03-25T16:52:24.691805",
     "exception": false,
     "start_time": "2024-03-25T16:52:24.673397",
     "status": "completed"
    },
    "tags": []
   },
   "source": [
    "# Casting dtypes "
   ]
  },
  {
   "cell_type": "code",
   "execution_count": 24,
   "id": "9e6f7a0a",
   "metadata": {
    "execution": {
     "iopub.execute_input": "2024-03-25T16:52:24.731734Z",
     "iopub.status.busy": "2024-03-25T16:52:24.731026Z",
     "iopub.status.idle": "2024-03-25T16:52:24.739451Z",
     "shell.execute_reply": "2024-03-25T16:52:24.738048Z"
    },
    "papermill": {
     "duration": 0.031492,
     "end_time": "2024-03-25T16:52:24.742069",
     "exception": false,
     "start_time": "2024-03-25T16:52:24.710577",
     "status": "completed"
    },
    "tags": []
   },
   "outputs": [
    {
     "name": "stderr",
     "output_type": "stream",
     "text": [
      "/tmp/ipykernel_18/1125781962.py:1: SettingWithCopyWarning: \n",
      "A value is trying to be set on a copy of a slice from a DataFrame.\n",
      "Try using .loc[row_indexer,col_indexer] = value instead\n",
      "\n",
      "See the caveats in the documentation: https://pandas.pydata.org/pandas-docs/stable/user_guide/indexing.html#returning-a-view-versus-a-copy\n",
      "  df['viewCount'] = df['viewCount'].astype('int')\n",
      "/tmp/ipykernel_18/1125781962.py:2: SettingWithCopyWarning: \n",
      "A value is trying to be set on a copy of a slice from a DataFrame.\n",
      "Try using .loc[row_indexer,col_indexer] = value instead\n",
      "\n",
      "See the caveats in the documentation: https://pandas.pydata.org/pandas-docs/stable/user_guide/indexing.html#returning-a-view-versus-a-copy\n",
      "  df['likeCount'] = df['likeCount'].astype('int')\n"
     ]
    }
   ],
   "source": [
    "df['viewCount'] = df['viewCount'].astype('int')\n",
    "df['likeCount'] = df['likeCount'].astype('int')"
   ]
  },
  {
   "cell_type": "code",
   "execution_count": 25,
   "id": "6cb67f2e",
   "metadata": {
    "execution": {
     "iopub.execute_input": "2024-03-25T16:52:24.785151Z",
     "iopub.status.busy": "2024-03-25T16:52:24.784518Z",
     "iopub.status.idle": "2024-03-25T16:52:24.811780Z",
     "shell.execute_reply": "2024-03-25T16:52:24.810506Z"
    },
    "papermill": {
     "duration": 0.052667,
     "end_time": "2024-03-25T16:52:24.815123",
     "exception": false,
     "start_time": "2024-03-25T16:52:24.762456",
     "status": "completed"
    },
    "tags": []
   },
   "outputs": [
    {
     "name": "stderr",
     "output_type": "stream",
     "text": [
      "/tmp/ipykernel_18/962919578.py:2: SettingWithCopyWarning: \n",
      "A value is trying to be set on a copy of a slice from a DataFrame.\n",
      "Try using .loc[row_indexer,col_indexer] = value instead\n",
      "\n",
      "See the caveats in the documentation: https://pandas.pydata.org/pandas-docs/stable/user_guide/indexing.html#returning-a-view-versus-a-copy\n",
      "  df['publishTime'] = pd.to_datetime(df['publishTime'])\n"
     ]
    },
    {
     "data": {
      "text/html": [
       "<div>\n",
       "<style scoped>\n",
       "    .dataframe tbody tr th:only-of-type {\n",
       "        vertical-align: middle;\n",
       "    }\n",
       "\n",
       "    .dataframe tbody tr th {\n",
       "        vertical-align: top;\n",
       "    }\n",
       "\n",
       "    .dataframe thead th {\n",
       "        text-align: right;\n",
       "    }\n",
       "</style>\n",
       "<table border=\"1\" class=\"dataframe\">\n",
       "  <thead>\n",
       "    <tr style=\"text-align: right;\">\n",
       "      <th></th>\n",
       "      <th>title</th>\n",
       "      <th>description</th>\n",
       "      <th>publishTime</th>\n",
       "      <th>duration_seconds</th>\n",
       "      <th>viewCount</th>\n",
       "      <th>likeCount</th>\n",
       "      <th>commentCount</th>\n",
       "    </tr>\n",
       "    <tr>\n",
       "      <th>id</th>\n",
       "      <th></th>\n",
       "      <th></th>\n",
       "      <th></th>\n",
       "      <th></th>\n",
       "      <th></th>\n",
       "      <th></th>\n",
       "      <th></th>\n",
       "    </tr>\n",
       "  </thead>\n",
       "  <tbody>\n",
       "    <tr>\n",
       "      <th>TQHEJj68Jew</th>\n",
       "      <td>I Got Hunted By A Real Bounty Hunter</td>\n",
       "      <td>Sign up for Current w/ my Creator Code \"BEAST\"...</td>\n",
       "      <td>2021-04-24 20:00:00+00:00</td>\n",
       "      <td>861</td>\n",
       "      <td>84717282</td>\n",
       "      <td>2876493</td>\n",
       "      <td>128922.0</td>\n",
       "    </tr>\n",
       "    <tr>\n",
       "      <th>00NgUctWoLQ</th>\n",
       "      <td>Extreme $1,000,000 Hide And Seek</td>\n",
       "      <td>I didn't expect that to happen at the end I wa...</td>\n",
       "      <td>2021-12-18 21:00:00+00:00</td>\n",
       "      <td>729</td>\n",
       "      <td>32090178</td>\n",
       "      <td>2125183</td>\n",
       "      <td>73593.0</td>\n",
       "    </tr>\n",
       "    <tr>\n",
       "      <th>ayXxwJJId_c</th>\n",
       "      <td>I Bought The World&amp;#39;s Largest Mystery Box! ...</td>\n",
       "      <td>I cant believe I spent over $500000 on mystery...</td>\n",
       "      <td>2021-04-03 20:00:01+00:00</td>\n",
       "      <td>709</td>\n",
       "      <td>101745632</td>\n",
       "      <td>3110824</td>\n",
       "      <td>162796.0</td>\n",
       "    </tr>\n",
       "    <tr>\n",
       "      <th>cExLQ1o2pDw</th>\n",
       "      <td>First To Rob Bank Wins $100,000</td>\n",
       "      <td>I didnt think he would actually rob the bank.....</td>\n",
       "      <td>2021-09-26 20:00:06+00:00</td>\n",
       "      <td>482</td>\n",
       "      <td>50008942</td>\n",
       "      <td>2359606</td>\n",
       "      <td>120621.0</td>\n",
       "    </tr>\n",
       "    <tr>\n",
       "      <th>GLoeAJUcz38</th>\n",
       "      <td>Press This Button To Win $100,000!</td>\n",
       "      <td>Push the red subscribe button and you could al...</td>\n",
       "      <td>2020-11-14 21:00:02+00:00</td>\n",
       "      <td>911</td>\n",
       "      <td>145527042</td>\n",
       "      <td>2762425</td>\n",
       "      <td>83853.0</td>\n",
       "    </tr>\n",
       "    <tr>\n",
       "      <th>...</th>\n",
       "      <td>...</td>\n",
       "      <td>...</td>\n",
       "      <td>...</td>\n",
       "      <td>...</td>\n",
       "      <td>...</td>\n",
       "      <td>...</td>\n",
       "      <td>...</td>\n",
       "    </tr>\n",
       "    <tr>\n",
       "      <th>yeHjsYQ076A</th>\n",
       "      <td>Remember When COD Was Fun?</td>\n",
       "      <td>Yup, another very pointless video ▻ Subscribe?...</td>\n",
       "      <td>2015-04-26 21:26:36+00:00</td>\n",
       "      <td>216</td>\n",
       "      <td>16312</td>\n",
       "      <td>574</td>\n",
       "      <td>145.0</td>\n",
       "    </tr>\n",
       "    <tr>\n",
       "      <th>X7doE4h6W64</th>\n",
       "      <td>Insane Gun Sync - 7 Hours To Make</td>\n",
       "      <td>Look at this - http://gyazo.com/8852509d2350db...</td>\n",
       "      <td>2015-06-21 12:22:34+00:00</td>\n",
       "      <td>134</td>\n",
       "      <td>15740</td>\n",
       "      <td>637</td>\n",
       "      <td>105.0</td>\n",
       "    </tr>\n",
       "    <tr>\n",
       "      <th>AIytwdufwW8</th>\n",
       "      <td>MY MESSAGE TO COD YOUTUBERS (Watch till end plz)</td>\n",
       "      <td>The beginning of the video is a little off top...</td>\n",
       "      <td>2015-05-29 20:07:48+00:00</td>\n",
       "      <td>292</td>\n",
       "      <td>18502</td>\n",
       "      <td>508</td>\n",
       "      <td>117.0</td>\n",
       "    </tr>\n",
       "    <tr>\n",
       "      <th>56OkH6ocYZU</th>\n",
       "      <td>L0114R - Biblical Creeper Post for Post @L0114R</td>\n",
       "      <td>His channel - https://www.youtube.com/user/the...</td>\n",
       "      <td>2015-05-15 16:48:54+00:00</td>\n",
       "      <td>109</td>\n",
       "      <td>16627</td>\n",
       "      <td>430</td>\n",
       "      <td>134.0</td>\n",
       "    </tr>\n",
       "    <tr>\n",
       "      <th>zi7tZ-2PhLk</th>\n",
       "      <td>How Much Money Do You Make As An Uber Driver??...</td>\n",
       "      <td>In this video I talk about being an uber drive...</td>\n",
       "      <td>2015-05-31 18:31:25+00:00</td>\n",
       "      <td>304</td>\n",
       "      <td>18773</td>\n",
       "      <td>370</td>\n",
       "      <td>59.0</td>\n",
       "    </tr>\n",
       "  </tbody>\n",
       "</table>\n",
       "<p>244 rows × 7 columns</p>\n",
       "</div>"
      ],
      "text/plain": [
       "                                                         title  \\\n",
       "id                                                               \n",
       "TQHEJj68Jew               I Got Hunted By A Real Bounty Hunter   \n",
       "00NgUctWoLQ                   Extreme $1,000,000 Hide And Seek   \n",
       "ayXxwJJId_c  I Bought The World&#39;s Largest Mystery Box! ...   \n",
       "cExLQ1o2pDw                    First To Rob Bank Wins $100,000   \n",
       "GLoeAJUcz38                 Press This Button To Win $100,000!   \n",
       "...                                                        ...   \n",
       "yeHjsYQ076A                         Remember When COD Was Fun?   \n",
       "X7doE4h6W64                  Insane Gun Sync - 7 Hours To Make   \n",
       "AIytwdufwW8   MY MESSAGE TO COD YOUTUBERS (Watch till end plz)   \n",
       "56OkH6ocYZU    L0114R - Biblical Creeper Post for Post @L0114R   \n",
       "zi7tZ-2PhLk  How Much Money Do You Make As An Uber Driver??...   \n",
       "\n",
       "                                                   description  \\\n",
       "id                                                               \n",
       "TQHEJj68Jew  Sign up for Current w/ my Creator Code \"BEAST\"...   \n",
       "00NgUctWoLQ  I didn't expect that to happen at the end I wa...   \n",
       "ayXxwJJId_c  I cant believe I spent over $500000 on mystery...   \n",
       "cExLQ1o2pDw  I didnt think he would actually rob the bank.....   \n",
       "GLoeAJUcz38  Push the red subscribe button and you could al...   \n",
       "...                                                        ...   \n",
       "yeHjsYQ076A  Yup, another very pointless video ▻ Subscribe?...   \n",
       "X7doE4h6W64  Look at this - http://gyazo.com/8852509d2350db...   \n",
       "AIytwdufwW8  The beginning of the video is a little off top...   \n",
       "56OkH6ocYZU  His channel - https://www.youtube.com/user/the...   \n",
       "zi7tZ-2PhLk  In this video I talk about being an uber drive...   \n",
       "\n",
       "                          publishTime  duration_seconds  viewCount  likeCount  \\\n",
       "id                                                                              \n",
       "TQHEJj68Jew 2021-04-24 20:00:00+00:00               861   84717282    2876493   \n",
       "00NgUctWoLQ 2021-12-18 21:00:00+00:00               729   32090178    2125183   \n",
       "ayXxwJJId_c 2021-04-03 20:00:01+00:00               709  101745632    3110824   \n",
       "cExLQ1o2pDw 2021-09-26 20:00:06+00:00               482   50008942    2359606   \n",
       "GLoeAJUcz38 2020-11-14 21:00:02+00:00               911  145527042    2762425   \n",
       "...                               ...               ...        ...        ...   \n",
       "yeHjsYQ076A 2015-04-26 21:26:36+00:00               216      16312        574   \n",
       "X7doE4h6W64 2015-06-21 12:22:34+00:00               134      15740        637   \n",
       "AIytwdufwW8 2015-05-29 20:07:48+00:00               292      18502        508   \n",
       "56OkH6ocYZU 2015-05-15 16:48:54+00:00               109      16627        430   \n",
       "zi7tZ-2PhLk 2015-05-31 18:31:25+00:00               304      18773        370   \n",
       "\n",
       "             commentCount  \n",
       "id                         \n",
       "TQHEJj68Jew      128922.0  \n",
       "00NgUctWoLQ       73593.0  \n",
       "ayXxwJJId_c      162796.0  \n",
       "cExLQ1o2pDw      120621.0  \n",
       "GLoeAJUcz38       83853.0  \n",
       "...                   ...  \n",
       "yeHjsYQ076A         145.0  \n",
       "X7doE4h6W64         105.0  \n",
       "AIytwdufwW8         117.0  \n",
       "56OkH6ocYZU         134.0  \n",
       "zi7tZ-2PhLk          59.0  \n",
       "\n",
       "[244 rows x 7 columns]"
      ]
     },
     "execution_count": 25,
     "metadata": {},
     "output_type": "execute_result"
    }
   ],
   "source": [
    "#casting in dataTime column \n",
    "df['publishTime'] = pd.to_datetime(df['publishTime'])\n",
    "df"
   ]
  },
  {
   "cell_type": "code",
   "execution_count": 26,
   "id": "0ad7e712",
   "metadata": {
    "execution": {
     "iopub.execute_input": "2024-03-25T16:52:24.857664Z",
     "iopub.status.busy": "2024-03-25T16:52:24.857224Z",
     "iopub.status.idle": "2024-03-25T16:52:24.864732Z",
     "shell.execute_reply": "2024-03-25T16:52:24.863231Z"
    },
    "papermill": {
     "duration": 0.033095,
     "end_time": "2024-03-25T16:52:24.868207",
     "exception": false,
     "start_time": "2024-03-25T16:52:24.835112",
     "status": "completed"
    },
    "tags": []
   },
   "outputs": [
    {
     "name": "stderr",
     "output_type": "stream",
     "text": [
      "/tmp/ipykernel_18/969364305.py:1: SettingWithCopyWarning: \n",
      "A value is trying to be set on a copy of a slice from a DataFrame.\n",
      "Try using .loc[row_indexer,col_indexer] = value instead\n",
      "\n",
      "See the caveats in the documentation: https://pandas.pydata.org/pandas-docs/stable/user_guide/indexing.html#returning-a-view-versus-a-copy\n",
      "  df['likeCount'] = pd.to_numeric(df['likeCount'].astype('str'))\n"
     ]
    }
   ],
   "source": [
    "df['likeCount'] = pd.to_numeric(df['likeCount'].astype('str'))"
   ]
  },
  {
   "cell_type": "markdown",
   "id": "f2c4079e",
   "metadata": {
    "papermill": {
     "duration": 0.020056,
     "end_time": "2024-03-25T16:52:24.908303",
     "exception": false,
     "start_time": "2024-03-25T16:52:24.888247",
     "status": "completed"
    },
    "tags": []
   },
   "source": [
    "# Creating New Column"
   ]
  },
  {
   "cell_type": "code",
   "execution_count": 27,
   "id": "10bef458",
   "metadata": {
    "execution": {
     "iopub.execute_input": "2024-03-25T16:52:24.949765Z",
     "iopub.status.busy": "2024-03-25T16:52:24.949064Z",
     "iopub.status.idle": "2024-03-25T16:52:24.958040Z",
     "shell.execute_reply": "2024-03-25T16:52:24.956004Z"
    },
    "papermill": {
     "duration": 0.032835,
     "end_time": "2024-03-25T16:52:24.960747",
     "exception": false,
     "start_time": "2024-03-25T16:52:24.927912",
     "status": "completed"
    },
    "tags": []
   },
   "outputs": [
    {
     "name": "stderr",
     "output_type": "stream",
     "text": [
      "/tmp/ipykernel_18/419211676.py:1: SettingWithCopyWarning: \n",
      "A value is trying to be set on a copy of a slice from a DataFrame.\n",
      "Try using .loc[row_indexer,col_indexer] = value instead\n",
      "\n",
      "See the caveats in the documentation: https://pandas.pydata.org/pandas-docs/stable/user_guide/indexing.html#returning-a-view-versus-a-copy\n",
      "  df['like_to_view_ratio'] = df['likeCount']/df['viewCount']\n"
     ]
    }
   ],
   "source": [
    "df['like_to_view_ratio'] = df['likeCount']/df['viewCount']"
   ]
  },
  {
   "cell_type": "markdown",
   "id": "ae967449",
   "metadata": {
    "papermill": {
     "duration": 0.021103,
     "end_time": "2024-03-25T16:52:25.002765",
     "exception": false,
     "start_time": "2024-03-25T16:52:24.981662",
     "status": "completed"
    },
    "tags": []
   },
   "source": [
    "# Adding new row"
   ]
  },
  {
   "cell_type": "code",
   "execution_count": 28,
   "id": "8ffd3e6a",
   "metadata": {
    "execution": {
     "iopub.execute_input": "2024-03-25T16:52:25.043757Z",
     "iopub.status.busy": "2024-03-25T16:52:25.043292Z",
     "iopub.status.idle": "2024-03-25T16:52:25.049505Z",
     "shell.execute_reply": "2024-03-25T16:52:25.048243Z"
    },
    "papermill": {
     "duration": 0.029702,
     "end_time": "2024-03-25T16:52:25.052138",
     "exception": false,
     "start_time": "2024-03-25T16:52:25.022436",
     "status": "completed"
    },
    "tags": []
   },
   "outputs": [],
   "source": [
    "df_to_append = df.tail(1)"
   ]
  },
  {
   "cell_type": "code",
   "execution_count": 29,
   "id": "8ea1356c",
   "metadata": {
    "execution": {
     "iopub.execute_input": "2024-03-25T16:52:25.098485Z",
     "iopub.status.busy": "2024-03-25T16:52:25.097998Z",
     "iopub.status.idle": "2024-03-25T16:52:25.104281Z",
     "shell.execute_reply": "2024-03-25T16:52:25.103306Z"
    },
    "papermill": {
     "duration": 0.032068,
     "end_time": "2024-03-25T16:52:25.107094",
     "exception": false,
     "start_time": "2024-03-25T16:52:25.075026",
     "status": "completed"
    },
    "tags": []
   },
   "outputs": [],
   "source": [
    "df_concat = pd.concat([df, df_to_append])"
   ]
  },
  {
   "cell_type": "markdown",
   "id": "0370f982",
   "metadata": {
    "papermill": {
     "duration": 0.01921,
     "end_time": "2024-03-25T16:52:25.145961",
     "exception": false,
     "start_time": "2024-03-25T16:52:25.126751",
     "status": "completed"
    },
    "tags": []
   },
   "source": []
  },
  {
   "cell_type": "markdown",
   "id": "d9d3ac0e",
   "metadata": {
    "papermill": {
     "duration": 0.019092,
     "end_time": "2024-03-25T16:52:25.185091",
     "exception": false,
     "start_time": "2024-03-25T16:52:25.165999",
     "status": "completed"
    },
    "tags": []
   },
   "source": [
    "# Plot Examples "
   ]
  },
  {
   "cell_type": "code",
   "execution_count": 30,
   "id": "e1d62894",
   "metadata": {
    "execution": {
     "iopub.execute_input": "2024-03-25T16:52:25.227567Z",
     "iopub.status.busy": "2024-03-25T16:52:25.227116Z",
     "iopub.status.idle": "2024-03-25T16:52:25.726772Z",
     "shell.execute_reply": "2024-03-25T16:52:25.725124Z"
    },
    "papermill": {
     "duration": 0.524968,
     "end_time": "2024-03-25T16:52:25.729916",
     "exception": false,
     "start_time": "2024-03-25T16:52:25.204948",
     "status": "completed"
    },
    "tags": []
   },
   "outputs": [
    {
     "data": {
      "text/plain": [
       "<Axes: title={'center': 'Distribution of view Count'}, ylabel='Frequency'>"
      ]
     },
     "execution_count": 30,
     "metadata": {},
     "output_type": "execute_result"
    },
    {
     "data": {
      "image/png": "[encoded data removed]",
      "text/plain": [
       "<Figure size 1500x500 with 1 Axes>"
      ]
     },
     "metadata": {},
     "output_type": "display_data"
    }
   ],
   "source": [
    "df['viewCount'].plot(kind='hist',\n",
    "                     bins=50,\n",
    "                     title = 'Distribution of view Count',\n",
    "                    figsize=(15, 5))"
   ]
  },
  {
   "cell_type": "code",
   "execution_count": 31,
   "id": "389d7b7e",
   "metadata": {
    "execution": {
     "iopub.execute_input": "2024-03-25T16:52:25.772827Z",
     "iopub.status.busy": "2024-03-25T16:52:25.772377Z",
     "iopub.status.idle": "2024-03-25T16:52:26.147312Z",
     "shell.execute_reply": "2024-03-25T16:52:26.145684Z"
    },
    "papermill": {
     "duration": 0.40022,
     "end_time": "2024-03-25T16:52:26.150395",
     "exception": false,
     "start_time": "2024-03-25T16:52:25.750175",
     "status": "completed"
    },
    "tags": []
   },
   "outputs": [
    {
     "data": {
      "text/plain": [
       "<Axes: title={'center': 'View vs Like Count'}, xlabel='viewCount', ylabel='likeCount'>"
      ]
     },
     "execution_count": 31,
     "metadata": {},
     "output_type": "execute_result"
    },
    {
     "data": {
      "image/png": "[encoded data removed]",
      "text/plain": [
       "<Figure size 640x480 with 1 Axes>"
      ]
     },
     "metadata": {},
     "output_type": "display_data"
    }
   ],
   "source": [
    "df.plot(kind='scatter',x='viewCount', y='likeCount', title='View vs Like Count')"
   ]
  },
  {
   "cell_type": "code",
   "execution_count": 32,
   "id": "5a219e7d",
   "metadata": {
    "execution": {
     "iopub.execute_input": "2024-03-25T16:52:26.195766Z",
     "iopub.status.busy": "2024-03-25T16:52:26.195341Z",
     "iopub.status.idle": "2024-03-25T16:52:26.216048Z",
     "shell.execute_reply": "2024-03-25T16:52:26.215166Z"
    },
    "papermill": {
     "duration": 0.046506,
     "end_time": "2024-03-25T16:52:26.218623",
     "exception": false,
     "start_time": "2024-03-25T16:52:26.172117",
     "status": "completed"
    },
    "tags": []
   },
   "outputs": [
    {
     "data": {
      "text/html": [
       "<div>\n",
       "<style scoped>\n",
       "    .dataframe tbody tr th:only-of-type {\n",
       "        vertical-align: middle;\n",
       "    }\n",
       "\n",
       "    .dataframe tbody tr th {\n",
       "        vertical-align: top;\n",
       "    }\n",
       "\n",
       "    .dataframe thead th {\n",
       "        text-align: right;\n",
       "    }\n",
       "</style>\n",
       "<table border=\"1\" class=\"dataframe\">\n",
       "  <thead>\n",
       "    <tr style=\"text-align: right;\">\n",
       "      <th></th>\n",
       "      <th>title</th>\n",
       "      <th>description</th>\n",
       "      <th>publishTime</th>\n",
       "      <th>duration_seconds</th>\n",
       "      <th>viewCount</th>\n",
       "      <th>likeCount</th>\n",
       "      <th>commentCount</th>\n",
       "      <th>like_to_view_ratio</th>\n",
       "    </tr>\n",
       "    <tr>\n",
       "      <th>id</th>\n",
       "      <th></th>\n",
       "      <th></th>\n",
       "      <th></th>\n",
       "      <th></th>\n",
       "      <th></th>\n",
       "      <th></th>\n",
       "      <th></th>\n",
       "      <th></th>\n",
       "    </tr>\n",
       "  </thead>\n",
       "  <tbody>\n",
       "    <tr>\n",
       "      <th>0e3GPea1Tyg</th>\n",
       "      <td>$456,000 Squid Game In Real Life!</td>\n",
       "      <td>MAKE SURE YOU WATCH UNTIL GLASS BRIDGE IT'S IN...</td>\n",
       "      <td>2021-11-24 21:00:01+00:00</td>\n",
       "      <td>1542</td>\n",
       "      <td>178763228</td>\n",
       "      <td>12250732</td>\n",
       "      <td>571946.0</td>\n",
       "      <td>0.068530</td>\n",
       "    </tr>\n",
       "    <tr>\n",
       "      <th>0e3GPea1Tyg</th>\n",
       "      <td>$456,000 Squid Game In Real Life!</td>\n",
       "      <td>MAKE SURE YOU WATCH UNTIL GLASS BRIDGE IT'S IN...</td>\n",
       "      <td>2021-11-24 21:00:01+00:00</td>\n",
       "      <td>1542</td>\n",
       "      <td>178763228</td>\n",
       "      <td>12250732</td>\n",
       "      <td>571946.0</td>\n",
       "      <td>0.068530</td>\n",
       "    </tr>\n",
       "    <tr>\n",
       "      <th>dBxOYE2j55U</th>\n",
       "      <td>Make This Video The Most Liked Video On Youtube</td>\n",
       "      <td>WHAT IS UP LOGANG, MAKE SURE YOU LIKE THE VIDE...</td>\n",
       "      <td>2019-01-16 22:05:01+00:00</td>\n",
       "      <td>791</td>\n",
       "      <td>96523287</td>\n",
       "      <td>19049431</td>\n",
       "      <td>277088.0</td>\n",
       "      <td>0.197356</td>\n",
       "    </tr>\n",
       "  </tbody>\n",
       "</table>\n",
       "</div>"
      ],
      "text/plain": [
       "                                                       title  \\\n",
       "id                                                             \n",
       "0e3GPea1Tyg                $456,000 Squid Game In Real Life!   \n",
       "0e3GPea1Tyg                $456,000 Squid Game In Real Life!   \n",
       "dBxOYE2j55U  Make This Video The Most Liked Video On Youtube   \n",
       "\n",
       "                                                   description  \\\n",
       "id                                                               \n",
       "0e3GPea1Tyg  MAKE SURE YOU WATCH UNTIL GLASS BRIDGE IT'S IN...   \n",
       "0e3GPea1Tyg  MAKE SURE YOU WATCH UNTIL GLASS BRIDGE IT'S IN...   \n",
       "dBxOYE2j55U  WHAT IS UP LOGANG, MAKE SURE YOU LIKE THE VIDE...   \n",
       "\n",
       "                          publishTime  duration_seconds  viewCount  likeCount  \\\n",
       "id                                                                              \n",
       "0e3GPea1Tyg 2021-11-24 21:00:01+00:00              1542  178763228   12250732   \n",
       "0e3GPea1Tyg 2021-11-24 21:00:01+00:00              1542  178763228   12250732   \n",
       "dBxOYE2j55U 2019-01-16 22:05:01+00:00               791   96523287   19049431   \n",
       "\n",
       "             commentCount  like_to_view_ratio  \n",
       "id                                             \n",
       "0e3GPea1Tyg      571946.0            0.068530  \n",
       "0e3GPea1Tyg      571946.0            0.068530  \n",
       "dBxOYE2j55U      277088.0            0.197356  "
      ]
     },
     "execution_count": 32,
     "metadata": {},
     "output_type": "execute_result"
    }
   ],
   "source": [
    "df.query('likeCount > 10000000')"
   ]
  },
  {
   "cell_type": "code",
   "execution_count": 33,
   "id": "3f4a2602",
   "metadata": {
    "execution": {
     "iopub.execute_input": "2024-03-25T16:52:26.266735Z",
     "iopub.status.busy": "2024-03-25T16:52:26.266331Z",
     "iopub.status.idle": "2024-03-25T16:52:26.282874Z",
     "shell.execute_reply": "2024-03-25T16:52:26.281507Z"
    },
    "papermill": {
     "duration": 0.04301,
     "end_time": "2024-03-25T16:52:26.285551",
     "exception": false,
     "start_time": "2024-03-25T16:52:26.242541",
     "status": "completed"
    },
    "tags": []
   },
   "outputs": [],
   "source": [
    "df.to_csv('processed_data.csv')"
   ]
  }
 ],
 "metadata": {
  "kaggle": {
   "accelerator": "none",
   "dataSources": [
    {
     "datasetId": 1807292,
     "sourceId": 2955824,
     "sourceType": "datasetVersion"
    }
   ],
   "dockerImageVersionId": 30673,
   "isGpuEnabled": false,
   "isInternetEnabled": false,
   "language": "python",
   "sourceType": "notebook"
  },
  "kernelspec": {
   "display_name": "Python 3",
   "language": "python",
   "name": "python3"
  },
  "language_info": {
   "codemirror_mode": {
    "name": "ipython",
    "version": 3
   },
   "file_extension": ".py",
   "mimetype": "text/x-python",
   "name": "python",
   "nbconvert_exporter": "python",
   "pygments_lexer": "ipython3",
   "version": "3.10.13"
  },
  "papermill": {
   "default_parameters": {},
   "duration": 8.207894,
   "end_time": "2024-03-25T16:52:26.828976",
   "environment_variables": {},
   "exception": null,
   "input_path": "__notebook__.ipynb",
   "output_path": "__notebook__.ipynb",
   "parameters": {},
   "start_time": "2024-03-25T16:52:18.621082",
   "version": "2.5.0"
  }
 },
 "nbformat": 4,
 "nbformat_minor": 5
}
